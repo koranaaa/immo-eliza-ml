{
 "cells": [
  {
   "cell_type": "code",
   "execution_count": 2,
   "metadata": {},
   "outputs": [
    {
     "name": "stdout",
     "output_type": "stream",
     "text": [
      "<class 'pandas.core.frame.DataFrame'>\n",
      "RangeIndex: 8356 entries, 0 to 8355\n",
      "Data columns (total 17 columns):\n",
      " #   Column              Non-Null Count  Dtype  \n",
      "---  ------              --------------  -----  \n",
      " 0   Unnamed: 0          8356 non-null   int64  \n",
      " 1   Property ID         8356 non-null   int64  \n",
      " 2   Locality data       8356 non-null   int64  \n",
      " 3   Price               8356 non-null   int64  \n",
      " 4   Property type       8356 non-null   object \n",
      " 5   Number of bedrooms  8356 non-null   float64\n",
      " 6   Living area m²      8356 non-null   float64\n",
      " 7   Equipped kitchen    8356 non-null   int64  \n",
      " 8   Furnished           8356 non-null   int64  \n",
      " 9   Open fire           8356 non-null   int64  \n",
      " 10  Terrace surface m²  4087 non-null   float64\n",
      " 11  Garden area m²      2388 non-null   float64\n",
      " 12  Swimming pool       8356 non-null   int64  \n",
      " 13  Building condition  8356 non-null   object \n",
      " 14  Price per m²        8356 non-null   float64\n",
      " 15  Region              8356 non-null   object \n",
      " 16  Province            8356 non-null   object \n",
      "dtypes: float64(5), int64(8), object(4)\n",
      "memory usage: 1.1+ MB\n"
     ]
    },
    {
     "data": {
      "text/plain": [
       "(None,\n",
       "    Unnamed: 0  Property ID  Locality data   Price Property type  \\\n",
       " 0        9333     20135745           8300  999999     apartment   \n",
       " 1        1737     20206578           4140  999999         house   \n",
       " 2        7967     20135600           8300  999999     apartment   \n",
       " 3        2563     20234889           1851  999000         house   \n",
       " 4        5435     20215434           1160  997000     apartment   \n",
       " \n",
       "    Number of bedrooms  Living area m²  Equipped kitchen  Furnished  Open fire  \\\n",
       " 0                 2.0           118.0                 0          0          1   \n",
       " 1                13.0           778.0                 1          0          1   \n",
       " 2                 2.0           118.0                 0          0          1   \n",
       " 3                 4.0           345.0                 1          1          1   \n",
       " 4                 3.0           144.0                 0          0          1   \n",
       " \n",
       "    Terrace surface m²  Garden area m²  Swimming pool Building condition  \\\n",
       " 0                 NaN             NaN              0             As new   \n",
       " 1               443.0             NaN              0               Good   \n",
       " 2                 NaN             NaN              0             As new   \n",
       " 3                15.0             NaN              0               Good   \n",
       " 4                43.0             NaN              0             As new   \n",
       " \n",
       "    Price per m²    Region         Province  \n",
       " 0   8474.567797  Flanders    West Flanders  \n",
       " 1   1285.345758  Wallonia            Liège  \n",
       " 2   8474.567797  Flanders    West Flanders  \n",
       " 3   2895.652174  Flanders  Flemish Brabant  \n",
       " 4   6923.611111  Brussels         Brussels  )"
      ]
     },
     "execution_count": 2,
     "metadata": {},
     "output_type": "execute_result"
    }
   ],
   "source": [
    "# Import necessary library\n",
    "import pandas as pd\n",
    "\n",
    "# Load the updated dataset\n",
    "data = pd.read_csv(r'C:\\Users\\Anastasiia\\Documents\\GitHub\\immo-eliza-ml\\Data\\cleaned_data_with_region_and_price_per_m2.csv')\n",
    "\n",
    "# Check the first few rows to understand the structure and types of data\n",
    "data_info = data.info()\n",
    "data_head = data.head()\n",
    "\n",
    "data_info, data_head"
   ]
  },
  {
   "cell_type": "code",
   "execution_count": 3,
   "metadata": {},
   "outputs": [
    {
     "data": {
      "text/html": [
       "<div>\n",
       "<style scoped>\n",
       "    .dataframe tbody tr th:only-of-type {\n",
       "        vertical-align: middle;\n",
       "    }\n",
       "\n",
       "    .dataframe tbody tr th {\n",
       "        vertical-align: top;\n",
       "    }\n",
       "\n",
       "    .dataframe thead th {\n",
       "        text-align: right;\n",
       "    }\n",
       "</style>\n",
       "<table border=\"1\" class=\"dataframe\">\n",
       "  <thead>\n",
       "    <tr style=\"text-align: right;\">\n",
       "      <th></th>\n",
       "      <th>Price</th>\n",
       "      <th>Property type</th>\n",
       "      <th>Number of bedrooms</th>\n",
       "      <th>Living area m²</th>\n",
       "      <th>Equipped kitchen</th>\n",
       "      <th>Furnished</th>\n",
       "      <th>Swimming pool</th>\n",
       "      <th>Building condition</th>\n",
       "      <th>Region</th>\n",
       "    </tr>\n",
       "  </thead>\n",
       "  <tbody>\n",
       "    <tr>\n",
       "      <th>0</th>\n",
       "      <td>999999</td>\n",
       "      <td>apartment</td>\n",
       "      <td>2.0</td>\n",
       "      <td>118.0</td>\n",
       "      <td>0</td>\n",
       "      <td>0</td>\n",
       "      <td>0</td>\n",
       "      <td>As new</td>\n",
       "      <td>Flanders</td>\n",
       "    </tr>\n",
       "    <tr>\n",
       "      <th>1</th>\n",
       "      <td>999999</td>\n",
       "      <td>house</td>\n",
       "      <td>13.0</td>\n",
       "      <td>778.0</td>\n",
       "      <td>1</td>\n",
       "      <td>0</td>\n",
       "      <td>0</td>\n",
       "      <td>Good</td>\n",
       "      <td>Wallonia</td>\n",
       "    </tr>\n",
       "    <tr>\n",
       "      <th>2</th>\n",
       "      <td>999999</td>\n",
       "      <td>apartment</td>\n",
       "      <td>2.0</td>\n",
       "      <td>118.0</td>\n",
       "      <td>0</td>\n",
       "      <td>0</td>\n",
       "      <td>0</td>\n",
       "      <td>As new</td>\n",
       "      <td>Flanders</td>\n",
       "    </tr>\n",
       "    <tr>\n",
       "      <th>3</th>\n",
       "      <td>999000</td>\n",
       "      <td>house</td>\n",
       "      <td>4.0</td>\n",
       "      <td>345.0</td>\n",
       "      <td>1</td>\n",
       "      <td>1</td>\n",
       "      <td>0</td>\n",
       "      <td>Good</td>\n",
       "      <td>Flanders</td>\n",
       "    </tr>\n",
       "    <tr>\n",
       "      <th>4</th>\n",
       "      <td>997000</td>\n",
       "      <td>apartment</td>\n",
       "      <td>3.0</td>\n",
       "      <td>144.0</td>\n",
       "      <td>0</td>\n",
       "      <td>0</td>\n",
       "      <td>0</td>\n",
       "      <td>As new</td>\n",
       "      <td>Brussels</td>\n",
       "    </tr>\n",
       "  </tbody>\n",
       "</table>\n",
       "</div>"
      ],
      "text/plain": [
       "    Price Property type  Number of bedrooms  Living area m²  Equipped kitchen  \\\n",
       "0  999999     apartment                 2.0           118.0                 0   \n",
       "1  999999         house                13.0           778.0                 1   \n",
       "2  999999     apartment                 2.0           118.0                 0   \n",
       "3  999000         house                 4.0           345.0                 1   \n",
       "4  997000     apartment                 3.0           144.0                 0   \n",
       "\n",
       "   Furnished  Swimming pool Building condition    Region  \n",
       "0          0              0             As new  Flanders  \n",
       "1          0              0               Good  Wallonia  \n",
       "2          0              0             As new  Flanders  \n",
       "3          1              0               Good  Flanders  \n",
       "4          0              0             As new  Brussels  "
      ]
     },
     "execution_count": 3,
     "metadata": {},
     "output_type": "execute_result"
    }
   ],
   "source": [
    "# Re-import necessary libraries and reload the dataset\n",
    "import pandas as pd\n",
    "import numpy as np\n",
    "import matplotlib.pyplot as plt\n",
    "\n",
    "# Reload the dataset\n",
    "file_path = r'C:\\Users\\Anastasiia\\Documents\\GitHub\\immo-eliza-ml\\Data\\cleaned_data_with_region_and_price_per_m2.csv'\n",
    "data = pd.read_csv(file_path)\n",
    "\n",
    "# Drop the specified columns\n",
    "columns_to_drop = [\n",
    "    'Unnamed: 0', \n",
    "    'Property ID', \n",
    "    'Locality data', \n",
    "    'Open fire', \n",
    "    'Terrace surface m²', \n",
    "    'Garden area m²', \n",
    "    'Price per m²', \n",
    "    'Province'\n",
    "]\n",
    "data_reduced = data.drop(columns=columns_to_drop)\n",
    "\n",
    "# Display the first few rows of the modified dataset to confirm changes\n",
    "data_reduced.head()"
   ]
  },
  {
   "cell_type": "code",
   "execution_count": 4,
   "metadata": {},
   "outputs": [
    {
     "data": {
      "image/png": "[encoded data removed]",
      "text/plain": [
       "<Figure size 1000x800 with 2 Axes>"
      ]
     },
     "metadata": {},
     "output_type": "display_data"
    }
   ],
   "source": [
    "# Calculate the correlation matrix for the reduced dataset (only numeric columns)\n",
    "numeric_data_reduced = data_reduced.select_dtypes(include=[np.number])\n",
    "correlation_matrix_reduced = numeric_data_reduced.corr()\n",
    "\n",
    "# Plot the updated correlation matrix with axis labels\n",
    "plt.figure(figsize=(10, 8))\n",
    "plt.matshow(correlation_matrix_reduced, cmap=\"coolwarm\", fignum=1)\n",
    "plt.colorbar()\n",
    "plt.xticks(ticks=np.arange(len(correlation_matrix_reduced.columns)), \n",
    "           labels=correlation_matrix_reduced.columns, rotation=90)\n",
    "plt.yticks(ticks=np.arange(len(correlation_matrix_reduced.columns)), \n",
    "           labels=correlation_matrix_reduced.columns)\n",
    "plt.title(\"Updated Correlation Matrix of Numeric Features\", pad=20)\n",
    "plt.show()"
   ]
  },
  {
   "cell_type": "code",
   "execution_count": 5,
   "metadata": {},
   "outputs": [
    {
     "data": {
      "text/html": [
       "<div>\n",
       "<style scoped>\n",
       "    .dataframe tbody tr th:only-of-type {\n",
       "        vertical-align: middle;\n",
       "    }\n",
       "\n",
       "    .dataframe tbody tr th {\n",
       "        vertical-align: top;\n",
       "    }\n",
       "\n",
       "    .dataframe thead th {\n",
       "        text-align: right;\n",
       "    }\n",
       "</style>\n",
       "<table border=\"1\" class=\"dataframe\">\n",
       "  <thead>\n",
       "    <tr style=\"text-align: right;\">\n",
       "      <th></th>\n",
       "      <th>Price</th>\n",
       "      <th>Number of bedrooms</th>\n",
       "      <th>Living area m²</th>\n",
       "      <th>Equipped kitchen</th>\n",
       "      <th>Furnished</th>\n",
       "      <th>Swimming pool</th>\n",
       "      <th>Building condition</th>\n",
       "      <th>Region</th>\n",
       "      <th>Property type_house</th>\n",
       "    </tr>\n",
       "  </thead>\n",
       "  <tbody>\n",
       "    <tr>\n",
       "      <th>0</th>\n",
       "      <td>999999</td>\n",
       "      <td>2.0</td>\n",
       "      <td>118.0</td>\n",
       "      <td>0</td>\n",
       "      <td>0</td>\n",
       "      <td>0</td>\n",
       "      <td>1</td>\n",
       "      <td>2</td>\n",
       "      <td>False</td>\n",
       "    </tr>\n",
       "    <tr>\n",
       "      <th>1</th>\n",
       "      <td>999999</td>\n",
       "      <td>13.0</td>\n",
       "      <td>778.0</td>\n",
       "      <td>1</td>\n",
       "      <td>0</td>\n",
       "      <td>0</td>\n",
       "      <td>2</td>\n",
       "      <td>3</td>\n",
       "      <td>True</td>\n",
       "    </tr>\n",
       "    <tr>\n",
       "      <th>2</th>\n",
       "      <td>999999</td>\n",
       "      <td>2.0</td>\n",
       "      <td>118.0</td>\n",
       "      <td>0</td>\n",
       "      <td>0</td>\n",
       "      <td>0</td>\n",
       "      <td>1</td>\n",
       "      <td>2</td>\n",
       "      <td>False</td>\n",
       "    </tr>\n",
       "    <tr>\n",
       "      <th>3</th>\n",
       "      <td>999000</td>\n",
       "      <td>4.0</td>\n",
       "      <td>345.0</td>\n",
       "      <td>1</td>\n",
       "      <td>1</td>\n",
       "      <td>0</td>\n",
       "      <td>2</td>\n",
       "      <td>2</td>\n",
       "      <td>True</td>\n",
       "    </tr>\n",
       "    <tr>\n",
       "      <th>4</th>\n",
       "      <td>997000</td>\n",
       "      <td>3.0</td>\n",
       "      <td>144.0</td>\n",
       "      <td>0</td>\n",
       "      <td>0</td>\n",
       "      <td>0</td>\n",
       "      <td>1</td>\n",
       "      <td>1</td>\n",
       "      <td>False</td>\n",
       "    </tr>\n",
       "  </tbody>\n",
       "</table>\n",
       "</div>"
      ],
      "text/plain": [
       "    Price  Number of bedrooms  Living area m²  Equipped kitchen  Furnished  \\\n",
       "0  999999                 2.0           118.0                 0          0   \n",
       "1  999999                13.0           778.0                 1          0   \n",
       "2  999999                 2.0           118.0                 0          0   \n",
       "3  999000                 4.0           345.0                 1          1   \n",
       "4  997000                 3.0           144.0                 0          0   \n",
       "\n",
       "   Swimming pool  Building condition  Region  Property type_house  \n",
       "0              0                   1       2                False  \n",
       "1              0                   2       3                 True  \n",
       "2              0                   1       2                False  \n",
       "3              0                   2       2                 True  \n",
       "4              0                   1       1                False  "
      ]
     },
     "execution_count": 5,
     "metadata": {},
     "output_type": "execute_result"
    }
   ],
   "source": [
    "import pandas as pd\n",
    "from sklearn.preprocessing import LabelEncoder\n",
    "\n",
    "# Initialize the Label Encoder\n",
    "label_encoder = LabelEncoder()\n",
    "\n",
    "# Apply Label encoding to \"Building condition\" and \"Region\"\n",
    "data_reduced['Building condition'] = label_encoder.fit_transform(data_reduced['Building condition']) + 1\n",
    "data_reduced['Region'] = label_encoder.fit_transform(data_reduced['Region']) + 1\n",
    "\n",
    "# Apply One-hot encoding to \"Property type\"\n",
    "data_encoded = pd.get_dummies(data_reduced, columns=['Property type'], drop_first=True)\n",
    "\n",
    "# Display the first few rows of the encoded dataset to confirm the changes\n",
    "data_encoded.head()\n"
   ]
  },
  {
   "cell_type": "code",
   "execution_count": 7,
   "metadata": {},
   "outputs": [
    {
     "name": "stdout",
     "output_type": "stream",
     "text": [
      "   Building condition  Region  Property type_house\n",
      "0                   1       2                    0\n",
      "1                   2       3                    1\n",
      "2                   1       2                    0\n",
      "3                   2       2                    1\n",
      "4                   1       1                    0\n",
      "Price                    int64\n",
      "Number of bedrooms     float64\n",
      "Living area m²         float64\n",
      "Equipped kitchen         int64\n",
      "Furnished                int64\n",
      "Swimming pool            int64\n",
      "Building condition       int64\n",
      "Region                   int64\n",
      "Property type_house      int64\n",
      "dtype: object\n"
     ]
    },
    {
     "data": {
      "text/html": [
       "<div>\n",
       "<style scoped>\n",
       "    .dataframe tbody tr th:only-of-type {\n",
       "        vertical-align: middle;\n",
       "    }\n",
       "\n",
       "    .dataframe tbody tr th {\n",
       "        vertical-align: top;\n",
       "    }\n",
       "\n",
       "    .dataframe thead th {\n",
       "        text-align: right;\n",
       "    }\n",
       "</style>\n",
       "<table border=\"1\" class=\"dataframe\">\n",
       "  <thead>\n",
       "    <tr style=\"text-align: right;\">\n",
       "      <th></th>\n",
       "      <th>Price</th>\n",
       "      <th>Number of bedrooms</th>\n",
       "      <th>Living area m²</th>\n",
       "      <th>Equipped kitchen</th>\n",
       "      <th>Furnished</th>\n",
       "      <th>Swimming pool</th>\n",
       "      <th>Building condition</th>\n",
       "      <th>Region</th>\n",
       "      <th>Property type_house</th>\n",
       "    </tr>\n",
       "  </thead>\n",
       "  <tbody>\n",
       "    <tr>\n",
       "      <th>0</th>\n",
       "      <td>999999</td>\n",
       "      <td>2.0</td>\n",
       "      <td>118.0</td>\n",
       "      <td>0</td>\n",
       "      <td>0</td>\n",
       "      <td>0</td>\n",
       "      <td>1</td>\n",
       "      <td>2</td>\n",
       "      <td>0</td>\n",
       "    </tr>\n",
       "    <tr>\n",
       "      <th>1</th>\n",
       "      <td>999999</td>\n",
       "      <td>13.0</td>\n",
       "      <td>778.0</td>\n",
       "      <td>1</td>\n",
       "      <td>0</td>\n",
       "      <td>0</td>\n",
       "      <td>2</td>\n",
       "      <td>3</td>\n",
       "      <td>1</td>\n",
       "    </tr>\n",
       "    <tr>\n",
       "      <th>2</th>\n",
       "      <td>999999</td>\n",
       "      <td>2.0</td>\n",
       "      <td>118.0</td>\n",
       "      <td>0</td>\n",
       "      <td>0</td>\n",
       "      <td>0</td>\n",
       "      <td>1</td>\n",
       "      <td>2</td>\n",
       "      <td>0</td>\n",
       "    </tr>\n",
       "    <tr>\n",
       "      <th>3</th>\n",
       "      <td>999000</td>\n",
       "      <td>4.0</td>\n",
       "      <td>345.0</td>\n",
       "      <td>1</td>\n",
       "      <td>1</td>\n",
       "      <td>0</td>\n",
       "      <td>2</td>\n",
       "      <td>2</td>\n",
       "      <td>1</td>\n",
       "    </tr>\n",
       "    <tr>\n",
       "      <th>4</th>\n",
       "      <td>997000</td>\n",
       "      <td>3.0</td>\n",
       "      <td>144.0</td>\n",
       "      <td>0</td>\n",
       "      <td>0</td>\n",
       "      <td>0</td>\n",
       "      <td>1</td>\n",
       "      <td>1</td>\n",
       "      <td>0</td>\n",
       "    </tr>\n",
       "  </tbody>\n",
       "</table>\n",
       "</div>"
      ],
      "text/plain": [
       "    Price  Number of bedrooms  Living area m²  Equipped kitchen  Furnished  \\\n",
       "0  999999                 2.0           118.0                 0          0   \n",
       "1  999999                13.0           778.0                 1          0   \n",
       "2  999999                 2.0           118.0                 0          0   \n",
       "3  999000                 4.0           345.0                 1          1   \n",
       "4  997000                 3.0           144.0                 0          0   \n",
       "\n",
       "   Swimming pool  Building condition  Region  Property type_house  \n",
       "0              0                   1       2                    0  \n",
       "1              0                   2       3                    1  \n",
       "2              0                   1       2                    0  \n",
       "3              0                   2       2                    1  \n",
       "4              0                   1       1                    0  "
      ]
     },
     "execution_count": 7,
     "metadata": {},
     "output_type": "execute_result"
    }
   ],
   "source": [
    "# List of columns to convert\n",
    "columns_to_convert = ['Building condition'] + [col for col in data_encoded.columns if 'Property type' in col or 'Region' in col]\n",
    "\n",
    "# Conversion of True/False values ​​to 1/0 only in specified columns\n",
    "data_encoded[columns_to_convert] = data_encoded[columns_to_convert].astype(int)\n",
    "\n",
    "# Check the result\n",
    "print(data_encoded[columns_to_convert].head())\n",
    "print(data_encoded.dtypes)\n",
    "data_encoded.head()"
   ]
  },
  {
   "cell_type": "code",
   "execution_count": null,
   "metadata": {},
   "outputs": [],
   "source": [
    "КРОК ЗІ СТАНДАРТИЗАЦІЇ "
   ]
  },
  {
   "cell_type": "code",
   "execution_count": 11,
   "metadata": {},
   "outputs": [
    {
     "name": "stdout",
     "output_type": "stream",
     "text": [
      "      Price  Number of bedrooms  Living area m²  Equipped kitchen  Furnished  \\\n",
      "0  3.275174           -0.637991       -0.337976         -0.801635  -0.200199   \n",
      "1  3.275174            8.192238        6.971681          1.247451  -0.200199   \n",
      "2  3.275174           -0.637991       -0.337976         -0.801635  -0.200199   \n",
      "3  3.269913            0.967506        2.176103          1.247451   4.995029   \n",
      "4  3.259380            0.164757       -0.050020         -0.801635  -0.200199   \n",
      "\n",
      "   Swimming pool  Building condition    Region  Property type_house  \n",
      "0       -0.13428           -1.093721 -0.050495            -1.015194  \n",
      "1       -0.13428           -0.315591  1.495059             0.985033  \n",
      "2       -0.13428           -1.093721 -0.050495            -1.015194  \n",
      "3       -0.13428           -0.315591 -0.050495             0.985033  \n",
      "4       -0.13428           -1.093721 -1.596049            -1.015194  \n"
     ]
    }
   ],
   "source": [
    "from sklearn.preprocessing import StandardScaler\n",
    "\n",
    "# Initialize the scaler\n",
    "scaler = StandardScaler()\n",
    "\n",
    "# Apply the scaler to numeric columns (excluding categorical columns that are already encoded)\n",
    "numeric_columns = data_encoded.select_dtypes(include=['int64', 'float64']).columns\n",
    "data_encoded[numeric_columns] = scaler.fit_transform(data_encoded[numeric_columns])\n",
    "\n",
    "# Check the first few rows of scaled data\n",
    "print(data_encoded.head())\n"
   ]
  },
  {
   "cell_type": "markdown",
   "metadata": {},
   "source": [
    "Поділ даних на тренувальну та тестову вибірки"
   ]
  },
  {
   "cell_type": "code",
   "execution_count": 12,
   "metadata": {},
   "outputs": [
    {
     "name": "stdout",
     "output_type": "stream",
     "text": [
      "Training set shape: (6684, 8) (6684,)\n",
      "Test set shape: (1672, 8) (1672,)\n"
     ]
    }
   ],
   "source": [
    "from sklearn.model_selection import train_test_split\n",
    "\n",
    "# Separate the target variable from the features\n",
    "X = data_encoded.drop('Price', axis=1)  # Assuming 'Price' is the target variable\n",
    "y = data_encoded['Price']\n",
    "\n",
    "# Split the data\n",
    "X_train, X_test, y_train, y_test = train_test_split(X, y, test_size=0.2, random_state=42)\n",
    "\n",
    "# Check the shapes of the training and testing sets\n",
    "print(\"Training set shape:\", X_train.shape, y_train.shape)\n",
    "print(\"Test set shape:\", X_test.shape, y_test.shape)\n"
   ]
  },
  {
   "cell_type": "markdown",
   "metadata": {},
   "source": [
    "LINEAR REGRESSION\n",
    "1. Train the model on the training sample \n",
    "2. Make predictions(передбачення) on the test sample \n",
    "3. Calculate key metrics to evaluate(для оцінки) the model's performance."
   ]
  },
  {
   "cell_type": "code",
   "execution_count": 13,
   "metadata": {},
   "outputs": [
    {
     "name": "stdout",
     "output_type": "stream",
     "text": [
      "Linear Regression Performance Metrics:\n",
      "Mean Absolute Error (MAE): 0.56\n",
      "Mean Squared Error (MSE): 0.65\n",
      "Root Mean Squared Error (RMSE): 0.8\n",
      "Mean Absolute Percentage Error (MAPE): 210.33 %\n",
      "R^2 Score: 0.38\n"
     ]
    }
   ],
   "source": [
    "from sklearn.linear_model import LinearRegression\n",
    "from sklearn.metrics import mean_absolute_error, r2_score, mean_squared_error, mean_absolute_percentage_error\n",
    "import numpy as np\n",
    "\n",
    "# Initialize the Linear Regression model\n",
    "linear_model = LinearRegression()\n",
    "\n",
    "# Train the model on the training data\n",
    "linear_model.fit(X_train, y_train)\n",
    "\n",
    "# Make predictions on the test set\n",
    "y_pred = linear_model.predict(X_test)\n",
    "\n",
    "# Evaluate the model using MAE, RMSE, and R^2 score\n",
    "mae = mean_absolute_error(y_test, y_pred)\n",
    "mse = mean_squared_error(y_test, y_pred)\n",
    "rmse = np.sqrt(mse)  # Calculate RMSE manually\n",
    "mape = mean_absolute_percentage_error(y_test, y_pred)\n",
    "r2 = r2_score(y_test, y_pred)\n",
    "\n",
    "# Display the results with rounding for better readability\n",
    "print(\"Linear Regression Performance Metrics:\")\n",
    "print(\"Mean Absolute Error (MAE):\", np.round(mae, 2))\n",
    "print(\"Mean Squared Error (MSE):\", np.round(mse, 2))\n",
    "print(\"Root Mean Squared Error (RMSE):\", np.round(rmse, 2))\n",
    "print(\"Mean Absolute Percentage Error (MAPE):\", np.round(mape * 100, 2), \"%\")\n",
    "print(\"R^2 Score:\", np.round(r2, 2))\n"
   ]
  },
  {
   "cell_type": "code",
   "execution_count": 14,
   "metadata": {},
   "outputs": [
    {
     "name": "stdout",
     "output_type": "stream",
     "text": [
      "Random Forest Regressor Performance Metrics:\n",
      "Mean Absolute Error (MAE): 0.52\n",
      "Mean Squared Error (MSE): 0.54\n",
      "Root Mean Squared Error (RMSE): 0.74\n",
      "Mean Absolute Percentage Error (MAPE): 273.38 %\n",
      "R^2 Score: 0.48\n"
     ]
    }
   ],
   "source": [
    "from sklearn.ensemble import RandomForestRegressor\n",
    "from sklearn.metrics import mean_absolute_error, mean_squared_error, mean_absolute_percentage_error, r2_score\n",
    "import numpy as np\n",
    "\n",
    "# Initialize the Random Forest Regressor model\n",
    "rf_model = RandomForestRegressor(random_state=42)\n",
    "\n",
    "# Train the model on the training data\n",
    "rf_model.fit(X_train, y_train)\n",
    "\n",
    "# Make predictions on the test set\n",
    "y_pred_rf = rf_model.predict(X_test)\n",
    "\n",
    "# Evaluate the model using MAE, MSE, RMSE, MAPE, and R^2 score\n",
    "mae_rf = mean_absolute_error(y_test, y_pred_rf)\n",
    "mse_rf = mean_squared_error(y_test, y_pred_rf)\n",
    "rmse_rf = np.sqrt(mse_rf)\n",
    "mape_rf = mean_absolute_percentage_error(y_test, y_pred_rf)\n",
    "r2_rf = r2_score(y_test, y_pred_rf)\n",
    "\n",
    "# Display the results with rounding for better readability\n",
    "print(\"Random Forest Regressor Performance Metrics:\")\n",
    "print(\"Mean Absolute Error (MAE):\", np.round(mae_rf, 2))\n",
    "print(\"Mean Squared Error (MSE):\", np.round(mse_rf, 2))\n",
    "print(\"Root Mean Squared Error (RMSE):\", np.round(rmse_rf, 2))\n",
    "print(\"Mean Absolute Percentage Error (MAPE):\", np.round(mape_rf * 100, 2), \"%\")\n",
    "print(\"R^2 Score:\", np.round(r2_rf, 2))\n"
   ]
  },
  {
   "cell_type": "markdown",
   "metadata": {},
   "source": [
    "Налаштувати гіперпараметри за допомогою RandomizedSearchCV"
   ]
  },
  {
   "cell_type": "code",
   "execution_count": 15,
   "metadata": {},
   "outputs": [
    {
     "name": "stdout",
     "output_type": "stream",
     "text": [
      "Fitting 5 folds for each of 20 candidates, totalling 100 fits\n",
      "Best Parameters from RandomizedSearchCV: {'n_estimators': 200, 'min_samples_split': 10, 'min_samples_leaf': 2, 'max_features': 'log2', 'max_depth': 10}\n",
      "Best RMSE Score from RandomizedSearchCV: 0.6738939074992824\n"
     ]
    }
   ],
   "source": [
    "from sklearn.ensemble import RandomForestRegressor\n",
    "from sklearn.model_selection import RandomizedSearchCV\n",
    "\n",
    "# Define the parameter grid for Random Forest\n",
    "param_dist = {\n",
    "    'n_estimators': [100, 200, 500],\n",
    "    'max_depth': [None, 10, 20, 30],\n",
    "    'min_samples_split': [2, 5, 10],\n",
    "    'min_samples_leaf': [1, 2, 4],\n",
    "    'max_features': ['sqrt', 'log2', None]\n",
    "}\n",
    "\n",
    "# Initialize the Random Forest Regressor model\n",
    "rf_model = RandomForestRegressor(random_state=42)\n",
    "\n",
    "# Set up RandomizedSearchCV with 5-fold cross-validation\n",
    "random_search = RandomizedSearchCV(\n",
    "    estimator=rf_model,\n",
    "    param_distributions=param_dist,\n",
    "    n_iter=20,  # Number of random combinations to try\n",
    "    scoring='neg_root_mean_squared_error',  # Optimize for RMSE\n",
    "    cv=5,\n",
    "    n_jobs=-1,\n",
    "    verbose=1,\n",
    "    random_state=42\n",
    ")\n",
    "\n",
    "# Fit the RandomizedSearchCV model on the training data\n",
    "random_search.fit(X_train, y_train)\n",
    "\n",
    "# Extract the best parameters and score\n",
    "best_params_rf = random_search.best_params_\n",
    "best_score_rf = -random_search.best_score_\n",
    "\n",
    "print(\"Best Parameters from RandomizedSearchCV:\", best_params_rf)\n",
    "print(\"Best RMSE Score from RandomizedSearchCV:\", best_score_rf)\n"
   ]
  },
  {
   "cell_type": "code",
   "execution_count": 16,
   "metadata": {},
   "outputs": [
    {
     "name": "stdout",
     "output_type": "stream",
     "text": [
      "\n",
      "Final Random Forest Regressor Performance Metrics with Tuned Hyperparameters:\n",
      "Mean Absolute Error (MAE): 0.49\n",
      "Mean Squared Error (MSE): 0.47\n",
      "Root Mean Squared Error (RMSE): 0.68\n",
      "Mean Absolute Percentage Error (MAPE): 187.01 %\n",
      "R^2 Score: 0.55\n"
     ]
    }
   ],
   "source": [
    "# Initialize the Random Forest Regressor with the best parameters\n",
    "final_rf_model = RandomForestRegressor(\n",
    "    n_estimators=best_params_rf['n_estimators'],\n",
    "    max_depth=best_params_rf['max_depth'],\n",
    "    min_samples_split=best_params_rf['min_samples_split'],\n",
    "    min_samples_leaf=best_params_rf['min_samples_leaf'],\n",
    "    max_features=best_params_rf['max_features'],\n",
    "    random_state=42\n",
    ")\n",
    "\n",
    "# Train the model on the entire training dataset\n",
    "final_rf_model.fit(X_train, y_train)\n",
    "\n",
    "# Make predictions on the test set\n",
    "y_pred_rf_final = final_rf_model.predict(X_test)\n",
    "\n",
    "# Evaluate the final model on the test set\n",
    "mae_rf_final = mean_absolute_error(y_test, y_pred_rf_final)\n",
    "mse_rf_final = mean_squared_error(y_test, y_pred_rf_final)\n",
    "rmse_rf_final = np.sqrt(mse_rf_final)\n",
    "mape_rf_final = mean_absolute_percentage_error(y_test, y_pred_rf_final)\n",
    "r2_rf_final = r2_score(y_test, y_pred_rf_final)\n",
    "\n",
    "# Display the final performance metrics\n",
    "print(\"\\nFinal Random Forest Regressor Performance Metrics with Tuned Hyperparameters:\")\n",
    "print(\"Mean Absolute Error (MAE):\", np.round(mae_rf_final, 2))\n",
    "print(\"Mean Squared Error (MSE):\", np.round(mse_rf_final, 2))\n",
    "print(\"Root Mean Squared Error (RMSE):\", np.round(rmse_rf_final, 2))\n",
    "print(\"Mean Absolute Percentage Error (MAPE):\", np.round(mape_rf_final * 100, 2), \"%\")\n",
    "print(\"R^2 Score:\", np.round(r2_rf_final, 2))\n"
   ]
  },
  {
   "cell_type": "markdown",
   "metadata": {},
   "source": [
    "Налаштувати гіперпараметри за допомогою GridSearchCV"
   ]
  },
  {
   "cell_type": "code",
   "execution_count": 17,
   "metadata": {},
   "outputs": [
    {
     "name": "stdout",
     "output_type": "stream",
     "text": [
      "Fitting 5 folds for each of 324 candidates, totalling 1620 fits\n"
     ]
    },
    {
     "ename": "KeyboardInterrupt",
     "evalue": "",
     "output_type": "error",
     "traceback": [
      "\u001b[1;31m---------------------------------------------------------------------------\u001b[0m",
      "\u001b[1;31mKeyboardInterrupt\u001b[0m                         Traceback (most recent call last)",
      "Cell \u001b[1;32mIn[17], line 27\u001b[0m\n\u001b[0;32m     17\u001b[0m grid_search \u001b[38;5;241m=\u001b[39m GridSearchCV(\n\u001b[0;32m     18\u001b[0m     estimator\u001b[38;5;241m=\u001b[39mrf_model,\n\u001b[0;32m     19\u001b[0m     param_grid\u001b[38;5;241m=\u001b[39mparam_grid,\n\u001b[1;32m   (...)\u001b[0m\n\u001b[0;32m     23\u001b[0m     verbose\u001b[38;5;241m=\u001b[39m\u001b[38;5;241m1\u001b[39m\n\u001b[0;32m     24\u001b[0m )\n\u001b[0;32m     26\u001b[0m \u001b[38;5;66;03m# Fit the GridSearchCV model on the training data\u001b[39;00m\n\u001b[1;32m---> 27\u001b[0m \u001b[43mgrid_search\u001b[49m\u001b[38;5;241;43m.\u001b[39;49m\u001b[43mfit\u001b[49m\u001b[43m(\u001b[49m\u001b[43mX_train\u001b[49m\u001b[43m,\u001b[49m\u001b[43m \u001b[49m\u001b[43my_train\u001b[49m\u001b[43m)\u001b[49m\n\u001b[0;32m     29\u001b[0m \u001b[38;5;66;03m# Extract the best parameters and score\u001b[39;00m\n\u001b[0;32m     30\u001b[0m best_params_rf \u001b[38;5;241m=\u001b[39m grid_search\u001b[38;5;241m.\u001b[39mbest_params_\n",
      "File \u001b[1;32mc:\\Users\\Anastasiia\\Documents\\GitHub\\immo-eliza-ml\\.venv\\Lib\\site-packages\\sklearn\\base.py:1473\u001b[0m, in \u001b[0;36m_fit_context.<locals>.decorator.<locals>.wrapper\u001b[1;34m(estimator, *args, **kwargs)\u001b[0m\n\u001b[0;32m   1466\u001b[0m     estimator\u001b[38;5;241m.\u001b[39m_validate_params()\n\u001b[0;32m   1468\u001b[0m \u001b[38;5;28;01mwith\u001b[39;00m config_context(\n\u001b[0;32m   1469\u001b[0m     skip_parameter_validation\u001b[38;5;241m=\u001b[39m(\n\u001b[0;32m   1470\u001b[0m         prefer_skip_nested_validation \u001b[38;5;129;01mor\u001b[39;00m global_skip_validation\n\u001b[0;32m   1471\u001b[0m     )\n\u001b[0;32m   1472\u001b[0m ):\n\u001b[1;32m-> 1473\u001b[0m     \u001b[38;5;28;01mreturn\u001b[39;00m \u001b[43mfit_method\u001b[49m\u001b[43m(\u001b[49m\u001b[43mestimator\u001b[49m\u001b[43m,\u001b[49m\u001b[43m \u001b[49m\u001b[38;5;241;43m*\u001b[39;49m\u001b[43margs\u001b[49m\u001b[43m,\u001b[49m\u001b[43m \u001b[49m\u001b[38;5;241;43m*\u001b[39;49m\u001b[38;5;241;43m*\u001b[39;49m\u001b[43mkwargs\u001b[49m\u001b[43m)\u001b[49m\n",
      "File \u001b[1;32mc:\\Users\\Anastasiia\\Documents\\GitHub\\immo-eliza-ml\\.venv\\Lib\\site-packages\\sklearn\\model_selection\\_search.py:1019\u001b[0m, in \u001b[0;36mBaseSearchCV.fit\u001b[1;34m(self, X, y, **params)\u001b[0m\n\u001b[0;32m   1013\u001b[0m     results \u001b[38;5;241m=\u001b[39m \u001b[38;5;28mself\u001b[39m\u001b[38;5;241m.\u001b[39m_format_results(\n\u001b[0;32m   1014\u001b[0m         all_candidate_params, n_splits, all_out, all_more_results\n\u001b[0;32m   1015\u001b[0m     )\n\u001b[0;32m   1017\u001b[0m     \u001b[38;5;28;01mreturn\u001b[39;00m results\n\u001b[1;32m-> 1019\u001b[0m \u001b[38;5;28;43mself\u001b[39;49m\u001b[38;5;241;43m.\u001b[39;49m\u001b[43m_run_search\u001b[49m\u001b[43m(\u001b[49m\u001b[43mevaluate_candidates\u001b[49m\u001b[43m)\u001b[49m\n\u001b[0;32m   1021\u001b[0m \u001b[38;5;66;03m# multimetric is determined here because in the case of a callable\u001b[39;00m\n\u001b[0;32m   1022\u001b[0m \u001b[38;5;66;03m# self.scoring the return type is only known after calling\u001b[39;00m\n\u001b[0;32m   1023\u001b[0m first_test_score \u001b[38;5;241m=\u001b[39m all_out[\u001b[38;5;241m0\u001b[39m][\u001b[38;5;124m\"\u001b[39m\u001b[38;5;124mtest_scores\u001b[39m\u001b[38;5;124m\"\u001b[39m]\n",
      "File \u001b[1;32mc:\\Users\\Anastasiia\\Documents\\GitHub\\immo-eliza-ml\\.venv\\Lib\\site-packages\\sklearn\\model_selection\\_search.py:1573\u001b[0m, in \u001b[0;36mGridSearchCV._run_search\u001b[1;34m(self, evaluate_candidates)\u001b[0m\n\u001b[0;32m   1571\u001b[0m \u001b[38;5;28;01mdef\u001b[39;00m \u001b[38;5;21m_run_search\u001b[39m(\u001b[38;5;28mself\u001b[39m, evaluate_candidates):\n\u001b[0;32m   1572\u001b[0m \u001b[38;5;250m    \u001b[39m\u001b[38;5;124;03m\"\"\"Search all candidates in param_grid\"\"\"\u001b[39;00m\n\u001b[1;32m-> 1573\u001b[0m     \u001b[43mevaluate_candidates\u001b[49m\u001b[43m(\u001b[49m\u001b[43mParameterGrid\u001b[49m\u001b[43m(\u001b[49m\u001b[38;5;28;43mself\u001b[39;49m\u001b[38;5;241;43m.\u001b[39;49m\u001b[43mparam_grid\u001b[49m\u001b[43m)\u001b[49m\u001b[43m)\u001b[49m\n",
      "File \u001b[1;32mc:\\Users\\Anastasiia\\Documents\\GitHub\\immo-eliza-ml\\.venv\\Lib\\site-packages\\sklearn\\model_selection\\_search.py:965\u001b[0m, in \u001b[0;36mBaseSearchCV.fit.<locals>.evaluate_candidates\u001b[1;34m(candidate_params, cv, more_results)\u001b[0m\n\u001b[0;32m    957\u001b[0m \u001b[38;5;28;01mif\u001b[39;00m \u001b[38;5;28mself\u001b[39m\u001b[38;5;241m.\u001b[39mverbose \u001b[38;5;241m>\u001b[39m \u001b[38;5;241m0\u001b[39m:\n\u001b[0;32m    958\u001b[0m     \u001b[38;5;28mprint\u001b[39m(\n\u001b[0;32m    959\u001b[0m         \u001b[38;5;124m\"\u001b[39m\u001b[38;5;124mFitting \u001b[39m\u001b[38;5;132;01m{0}\u001b[39;00m\u001b[38;5;124m folds for each of \u001b[39m\u001b[38;5;132;01m{1}\u001b[39;00m\u001b[38;5;124m candidates,\u001b[39m\u001b[38;5;124m\"\u001b[39m\n\u001b[0;32m    960\u001b[0m         \u001b[38;5;124m\"\u001b[39m\u001b[38;5;124m totalling \u001b[39m\u001b[38;5;132;01m{2}\u001b[39;00m\u001b[38;5;124m fits\u001b[39m\u001b[38;5;124m\"\u001b[39m\u001b[38;5;241m.\u001b[39mformat(\n\u001b[0;32m    961\u001b[0m             n_splits, n_candidates, n_candidates \u001b[38;5;241m*\u001b[39m n_splits\n\u001b[0;32m    962\u001b[0m         )\n\u001b[0;32m    963\u001b[0m     )\n\u001b[1;32m--> 965\u001b[0m out \u001b[38;5;241m=\u001b[39m \u001b[43mparallel\u001b[49m\u001b[43m(\u001b[49m\n\u001b[0;32m    966\u001b[0m \u001b[43m    \u001b[49m\u001b[43mdelayed\u001b[49m\u001b[43m(\u001b[49m\u001b[43m_fit_and_score\u001b[49m\u001b[43m)\u001b[49m\u001b[43m(\u001b[49m\n\u001b[0;32m    967\u001b[0m \u001b[43m        \u001b[49m\u001b[43mclone\u001b[49m\u001b[43m(\u001b[49m\u001b[43mbase_estimator\u001b[49m\u001b[43m)\u001b[49m\u001b[43m,\u001b[49m\n\u001b[0;32m    968\u001b[0m \u001b[43m        \u001b[49m\u001b[43mX\u001b[49m\u001b[43m,\u001b[49m\n\u001b[0;32m    969\u001b[0m \u001b[43m        \u001b[49m\u001b[43my\u001b[49m\u001b[43m,\u001b[49m\n\u001b[0;32m    970\u001b[0m \u001b[43m        \u001b[49m\u001b[43mtrain\u001b[49m\u001b[38;5;241;43m=\u001b[39;49m\u001b[43mtrain\u001b[49m\u001b[43m,\u001b[49m\n\u001b[0;32m    971\u001b[0m \u001b[43m        \u001b[49m\u001b[43mtest\u001b[49m\u001b[38;5;241;43m=\u001b[39;49m\u001b[43mtest\u001b[49m\u001b[43m,\u001b[49m\n\u001b[0;32m    972\u001b[0m \u001b[43m        \u001b[49m\u001b[43mparameters\u001b[49m\u001b[38;5;241;43m=\u001b[39;49m\u001b[43mparameters\u001b[49m\u001b[43m,\u001b[49m\n\u001b[0;32m    973\u001b[0m \u001b[43m        \u001b[49m\u001b[43msplit_progress\u001b[49m\u001b[38;5;241;43m=\u001b[39;49m\u001b[43m(\u001b[49m\u001b[43msplit_idx\u001b[49m\u001b[43m,\u001b[49m\u001b[43m \u001b[49m\u001b[43mn_splits\u001b[49m\u001b[43m)\u001b[49m\u001b[43m,\u001b[49m\n\u001b[0;32m    974\u001b[0m \u001b[43m        \u001b[49m\u001b[43mcandidate_progress\u001b[49m\u001b[38;5;241;43m=\u001b[39;49m\u001b[43m(\u001b[49m\u001b[43mcand_idx\u001b[49m\u001b[43m,\u001b[49m\u001b[43m \u001b[49m\u001b[43mn_candidates\u001b[49m\u001b[43m)\u001b[49m\u001b[43m,\u001b[49m\n\u001b[0;32m    975\u001b[0m \u001b[43m        \u001b[49m\u001b[38;5;241;43m*\u001b[39;49m\u001b[38;5;241;43m*\u001b[39;49m\u001b[43mfit_and_score_kwargs\u001b[49m\u001b[43m,\u001b[49m\n\u001b[0;32m    976\u001b[0m \u001b[43m    \u001b[49m\u001b[43m)\u001b[49m\n\u001b[0;32m    977\u001b[0m \u001b[43m    \u001b[49m\u001b[38;5;28;43;01mfor\u001b[39;49;00m\u001b[43m \u001b[49m\u001b[43m(\u001b[49m\u001b[43mcand_idx\u001b[49m\u001b[43m,\u001b[49m\u001b[43m \u001b[49m\u001b[43mparameters\u001b[49m\u001b[43m)\u001b[49m\u001b[43m,\u001b[49m\u001b[43m \u001b[49m\u001b[43m(\u001b[49m\u001b[43msplit_idx\u001b[49m\u001b[43m,\u001b[49m\u001b[43m \u001b[49m\u001b[43m(\u001b[49m\u001b[43mtrain\u001b[49m\u001b[43m,\u001b[49m\u001b[43m \u001b[49m\u001b[43mtest\u001b[49m\u001b[43m)\u001b[49m\u001b[43m)\u001b[49m\u001b[43m \u001b[49m\u001b[38;5;129;43;01min\u001b[39;49;00m\u001b[43m \u001b[49m\u001b[43mproduct\u001b[49m\u001b[43m(\u001b[49m\n\u001b[0;32m    978\u001b[0m \u001b[43m        \u001b[49m\u001b[38;5;28;43menumerate\u001b[39;49m\u001b[43m(\u001b[49m\u001b[43mcandidate_params\u001b[49m\u001b[43m)\u001b[49m\u001b[43m,\u001b[49m\n\u001b[0;32m    979\u001b[0m \u001b[43m        \u001b[49m\u001b[38;5;28;43menumerate\u001b[39;49m\u001b[43m(\u001b[49m\u001b[43mcv\u001b[49m\u001b[38;5;241;43m.\u001b[39;49m\u001b[43msplit\u001b[49m\u001b[43m(\u001b[49m\u001b[43mX\u001b[49m\u001b[43m,\u001b[49m\u001b[43m \u001b[49m\u001b[43my\u001b[49m\u001b[43m,\u001b[49m\u001b[43m \u001b[49m\u001b[38;5;241;43m*\u001b[39;49m\u001b[38;5;241;43m*\u001b[39;49m\u001b[43mrouted_params\u001b[49m\u001b[38;5;241;43m.\u001b[39;49m\u001b[43msplitter\u001b[49m\u001b[38;5;241;43m.\u001b[39;49m\u001b[43msplit\u001b[49m\u001b[43m)\u001b[49m\u001b[43m)\u001b[49m\u001b[43m,\u001b[49m\n\u001b[0;32m    980\u001b[0m \u001b[43m    \u001b[49m\u001b[43m)\u001b[49m\n\u001b[0;32m    981\u001b[0m \u001b[43m\u001b[49m\u001b[43m)\u001b[49m\n\u001b[0;32m    983\u001b[0m \u001b[38;5;28;01mif\u001b[39;00m \u001b[38;5;28mlen\u001b[39m(out) \u001b[38;5;241m<\u001b[39m \u001b[38;5;241m1\u001b[39m:\n\u001b[0;32m    984\u001b[0m     \u001b[38;5;28;01mraise\u001b[39;00m \u001b[38;5;167;01mValueError\u001b[39;00m(\n\u001b[0;32m    985\u001b[0m         \u001b[38;5;124m\"\u001b[39m\u001b[38;5;124mNo fits were performed. \u001b[39m\u001b[38;5;124m\"\u001b[39m\n\u001b[0;32m    986\u001b[0m         \u001b[38;5;124m\"\u001b[39m\u001b[38;5;124mWas the CV iterator empty? \u001b[39m\u001b[38;5;124m\"\u001b[39m\n\u001b[0;32m    987\u001b[0m         \u001b[38;5;124m\"\u001b[39m\u001b[38;5;124mWere there no candidates?\u001b[39m\u001b[38;5;124m\"\u001b[39m\n\u001b[0;32m    988\u001b[0m     )\n",
      "File \u001b[1;32mc:\\Users\\Anastasiia\\Documents\\GitHub\\immo-eliza-ml\\.venv\\Lib\\site-packages\\sklearn\\utils\\parallel.py:74\u001b[0m, in \u001b[0;36mParallel.__call__\u001b[1;34m(self, iterable)\u001b[0m\n\u001b[0;32m     69\u001b[0m config \u001b[38;5;241m=\u001b[39m get_config()\n\u001b[0;32m     70\u001b[0m iterable_with_config \u001b[38;5;241m=\u001b[39m (\n\u001b[0;32m     71\u001b[0m     (_with_config(delayed_func, config), args, kwargs)\n\u001b[0;32m     72\u001b[0m     \u001b[38;5;28;01mfor\u001b[39;00m delayed_func, args, kwargs \u001b[38;5;129;01min\u001b[39;00m iterable\n\u001b[0;32m     73\u001b[0m )\n\u001b[1;32m---> 74\u001b[0m \u001b[38;5;28;01mreturn\u001b[39;00m \u001b[38;5;28;43msuper\u001b[39;49m\u001b[43m(\u001b[49m\u001b[43m)\u001b[49m\u001b[38;5;241;43m.\u001b[39;49m\u001b[38;5;21;43m__call__\u001b[39;49m\u001b[43m(\u001b[49m\u001b[43miterable_with_config\u001b[49m\u001b[43m)\u001b[49m\n",
      "File \u001b[1;32mc:\\Users\\Anastasiia\\Documents\\GitHub\\immo-eliza-ml\\.venv\\Lib\\site-packages\\joblib\\parallel.py:2007\u001b[0m, in \u001b[0;36mParallel.__call__\u001b[1;34m(self, iterable)\u001b[0m\n\u001b[0;32m   2001\u001b[0m \u001b[38;5;66;03m# The first item from the output is blank, but it makes the interpreter\u001b[39;00m\n\u001b[0;32m   2002\u001b[0m \u001b[38;5;66;03m# progress until it enters the Try/Except block of the generator and\u001b[39;00m\n\u001b[0;32m   2003\u001b[0m \u001b[38;5;66;03m# reaches the first `yield` statement. This starts the asynchronous\u001b[39;00m\n\u001b[0;32m   2004\u001b[0m \u001b[38;5;66;03m# dispatch of the tasks to the workers.\u001b[39;00m\n\u001b[0;32m   2005\u001b[0m \u001b[38;5;28mnext\u001b[39m(output)\n\u001b[1;32m-> 2007\u001b[0m \u001b[38;5;28;01mreturn\u001b[39;00m output \u001b[38;5;28;01mif\u001b[39;00m \u001b[38;5;28mself\u001b[39m\u001b[38;5;241m.\u001b[39mreturn_generator \u001b[38;5;28;01melse\u001b[39;00m \u001b[38;5;28;43mlist\u001b[39;49m\u001b[43m(\u001b[49m\u001b[43moutput\u001b[49m\u001b[43m)\u001b[49m\n",
      "File \u001b[1;32mc:\\Users\\Anastasiia\\Documents\\GitHub\\immo-eliza-ml\\.venv\\Lib\\site-packages\\joblib\\parallel.py:1650\u001b[0m, in \u001b[0;36mParallel._get_outputs\u001b[1;34m(self, iterator, pre_dispatch)\u001b[0m\n\u001b[0;32m   1647\u001b[0m     \u001b[38;5;28;01myield\u001b[39;00m\n\u001b[0;32m   1649\u001b[0m     \u001b[38;5;28;01mwith\u001b[39;00m \u001b[38;5;28mself\u001b[39m\u001b[38;5;241m.\u001b[39m_backend\u001b[38;5;241m.\u001b[39mretrieval_context():\n\u001b[1;32m-> 1650\u001b[0m         \u001b[38;5;28;01myield from\u001b[39;00m \u001b[38;5;28mself\u001b[39m\u001b[38;5;241m.\u001b[39m_retrieve()\n\u001b[0;32m   1652\u001b[0m \u001b[38;5;28;01mexcept\u001b[39;00m \u001b[38;5;167;01mGeneratorExit\u001b[39;00m:\n\u001b[0;32m   1653\u001b[0m     \u001b[38;5;66;03m# The generator has been garbage collected before being fully\u001b[39;00m\n\u001b[0;32m   1654\u001b[0m     \u001b[38;5;66;03m# consumed. This aborts the remaining tasks if possible and warn\u001b[39;00m\n\u001b[0;32m   1655\u001b[0m     \u001b[38;5;66;03m# the user if necessary.\u001b[39;00m\n\u001b[0;32m   1656\u001b[0m     \u001b[38;5;28mself\u001b[39m\u001b[38;5;241m.\u001b[39m_exception \u001b[38;5;241m=\u001b[39m \u001b[38;5;28;01mTrue\u001b[39;00m\n",
      "File \u001b[1;32mc:\\Users\\Anastasiia\\Documents\\GitHub\\immo-eliza-ml\\.venv\\Lib\\site-packages\\joblib\\parallel.py:1762\u001b[0m, in \u001b[0;36mParallel._retrieve\u001b[1;34m(self)\u001b[0m\n\u001b[0;32m   1757\u001b[0m \u001b[38;5;66;03m# If the next job is not ready for retrieval yet, we just wait for\u001b[39;00m\n\u001b[0;32m   1758\u001b[0m \u001b[38;5;66;03m# async callbacks to progress.\u001b[39;00m\n\u001b[0;32m   1759\u001b[0m \u001b[38;5;28;01mif\u001b[39;00m ((\u001b[38;5;28mlen\u001b[39m(\u001b[38;5;28mself\u001b[39m\u001b[38;5;241m.\u001b[39m_jobs) \u001b[38;5;241m==\u001b[39m \u001b[38;5;241m0\u001b[39m) \u001b[38;5;129;01mor\u001b[39;00m\n\u001b[0;32m   1760\u001b[0m     (\u001b[38;5;28mself\u001b[39m\u001b[38;5;241m.\u001b[39m_jobs[\u001b[38;5;241m0\u001b[39m]\u001b[38;5;241m.\u001b[39mget_status(\n\u001b[0;32m   1761\u001b[0m         timeout\u001b[38;5;241m=\u001b[39m\u001b[38;5;28mself\u001b[39m\u001b[38;5;241m.\u001b[39mtimeout) \u001b[38;5;241m==\u001b[39m TASK_PENDING)):\n\u001b[1;32m-> 1762\u001b[0m     \u001b[43mtime\u001b[49m\u001b[38;5;241;43m.\u001b[39;49m\u001b[43msleep\u001b[49m\u001b[43m(\u001b[49m\u001b[38;5;241;43m0.01\u001b[39;49m\u001b[43m)\u001b[49m\n\u001b[0;32m   1763\u001b[0m     \u001b[38;5;28;01mcontinue\u001b[39;00m\n\u001b[0;32m   1765\u001b[0m \u001b[38;5;66;03m# We need to be careful: the job list can be filling up as\u001b[39;00m\n\u001b[0;32m   1766\u001b[0m \u001b[38;5;66;03m# we empty it and Python list are not thread-safe by\u001b[39;00m\n\u001b[0;32m   1767\u001b[0m \u001b[38;5;66;03m# default hence the use of the lock\u001b[39;00m\n",
      "\u001b[1;31mKeyboardInterrupt\u001b[0m: "
     ]
    }
   ],
   "source": [
    "from sklearn.ensemble import RandomForestRegressor\n",
    "from sklearn.model_selection import GridSearchCV\n",
    "\n",
    "# Define the parameter grid for Random Forest\n",
    "param_grid = {\n",
    "    'n_estimators': [100, 200, 500],\n",
    "    'max_depth': [None, 10, 20, 30],\n",
    "    'min_samples_split': [2, 5, 10],\n",
    "    'min_samples_leaf': [1, 2, 4],\n",
    "    'max_features': ['sqrt', 'log2', None]\n",
    "}\n",
    "\n",
    "# Initialize the Random Forest Regressor model\n",
    "rf_model = RandomForestRegressor(random_state=42)\n",
    "\n",
    "# Set up GridSearchCV with 5-fold cross-validation\n",
    "grid_search = GridSearchCV(\n",
    "    estimator=rf_model,\n",
    "    param_grid=param_grid,\n",
    "    scoring='neg_root_mean_squared_error',  # Optimize for RMSE\n",
    "    cv=5,\n",
    "    n_jobs=-1,\n",
    "    verbose=1\n",
    ")\n",
    "\n",
    "# Fit the GridSearchCV model on the training data\n",
    "grid_search.fit(X_train, y_train)\n",
    "\n",
    "# Extract the best parameters and score\n",
    "best_params_rf = grid_search.best_params_\n",
    "best_score_rf = -grid_search.best_score_\n",
    "\n",
    "print(\"Best Parameters from GridSearchCV:\", best_params_rf)\n",
    "print(\"Best RMSE Score from GridSearchCV:\", best_score_rf)\n"
   ]
  },
  {
   "cell_type": "markdown",
   "metadata": {},
   "source": [
    "Дуже довго я відмовилась від цієї ідеї\n",
    "Спробую XgBoost"
   ]
  },
  {
   "cell_type": "code",
   "execution_count": 18,
   "metadata": {},
   "outputs": [
    {
     "name": "stdout",
     "output_type": "stream",
     "text": [
      "Fitting 5 folds for each of 20 candidates, totalling 100 fits\n",
      "Best Parameters from RandomizedSearchCV for XGBoost: {'subsample': 0.8, 'n_estimators': 100, 'max_depth': 7, 'learning_rate': 0.05, 'gamma': 0, 'colsample_bytree': 0.8}\n",
      "Best RMSE Score from RandomizedSearchCV for XGBoost: 0.6735818922523936\n"
     ]
    }
   ],
   "source": [
    "from sklearn.model_selection import RandomizedSearchCV\n",
    "from xgboost import XGBRegressor\n",
    "\n",
    "# Define the parameter grid for XGBoost\n",
    "param_dist_xgb = {\n",
    "    'n_estimators': [100, 200, 300],\n",
    "    'max_depth': [3, 5, 7],\n",
    "    'learning_rate': [0.01, 0.05, 0.1, 0.2],\n",
    "    'subsample': [0.6, 0.8, 1.0],\n",
    "    'colsample_bytree': [0.6, 0.8, 1.0],\n",
    "    'gamma': [0, 0.1, 0.2, 0.3]\n",
    "}\n",
    "\n",
    "# Initialize RandomizedSearchCV\n",
    "random_search_xgb = RandomizedSearchCV(\n",
    "    estimator=XGBRegressor(random_state=42, verbosity=1),\n",
    "    param_distributions=param_dist_xgb,\n",
    "    n_iter=20,  # Number of random combinations to try\n",
    "    scoring='neg_root_mean_squared_error',\n",
    "    cv=5,\n",
    "    n_jobs=-1,\n",
    "    verbose=1,\n",
    "    random_state=42\n",
    ")\n",
    "\n",
    "# Fit the RandomizedSearchCV model on the training data\n",
    "random_search_xgb.fit(X_train, y_train)\n",
    "\n",
    "# Extract the best parameters and score\n",
    "best_params_xgb = random_search_xgb.best_params_\n",
    "best_score_xgb = -random_search_xgb.best_score_\n",
    "\n",
    "print(\"Best Parameters from RandomizedSearchCV for XGBoost:\", best_params_xgb)\n",
    "print(\"Best RMSE Score from RandomizedSearchCV for XGBoost:\", best_score_xgb)\n"
   ]
  },
  {
   "cell_type": "markdown",
   "metadata": {},
   "source": [
    "Tuning XGBoost parameters with RandomizedSearchCV"
   ]
  },
  {
   "cell_type": "code",
   "execution_count": 19,
   "metadata": {},
   "outputs": [
    {
     "name": "stdout",
     "output_type": "stream",
     "text": [
      "Fitting 5 folds for each of 20 candidates, totalling 100 fits\n",
      "Best Parameters from RandomizedSearchCV for XGBoost: {'subsample': 0.8, 'n_estimators': 100, 'max_depth': 7, 'learning_rate': 0.05, 'gamma': 0, 'colsample_bytree': 0.8}\n",
      "Best RMSE Score from RandomizedSearchCV for XGBoost: 0.6735818922523936\n"
     ]
    }
   ],
   "source": [
    "from sklearn.model_selection import RandomizedSearchCV\n",
    "\n",
    "# Define the parameter grid for XGBoost\n",
    "param_dist_xgb = {\n",
    "    'n_estimators': [100, 200, 300],\n",
    "    'max_depth': [3, 5, 7],\n",
    "    'learning_rate': [0.01, 0.05, 0.1, 0.2],\n",
    "    'subsample': [0.6, 0.8, 1.0],\n",
    "    'colsample_bytree': [0.6, 0.8, 1.0],\n",
    "    'gamma': [0, 0.1, 0.2, 0.3]\n",
    "}\n",
    "\n",
    "# Initialize RandomizedSearchCV\n",
    "random_search_xgb = RandomizedSearchCV(\n",
    "    estimator=XGBRegressor(random_state=42, verbosity=1),\n",
    "    param_distributions=param_dist_xgb,\n",
    "    n_iter=20,  # Number of random combinations to try\n",
    "    scoring='neg_root_mean_squared_error',\n",
    "    cv=5,\n",
    "    n_jobs=-1,\n",
    "    verbose=1,\n",
    "    random_state=42\n",
    ")\n",
    "\n",
    "# Fit the RandomizedSearchCV model on the training data\n",
    "random_search_xgb.fit(X_train, y_train)\n",
    "\n",
    "# Extract the best parameters and score\n",
    "best_params_xgb = random_search_xgb.best_params_\n",
    "best_score_xgb = -random_search_xgb.best_score_\n",
    "\n",
    "print(\"Best Parameters from RandomizedSearchCV for XGBoost:\", best_params_xgb)\n",
    "print(\"Best RMSE Score from RandomizedSearchCV for XGBoost:\", best_score_xgb)\n"
   ]
  },
  {
   "cell_type": "code",
   "execution_count": 20,
   "metadata": {},
   "outputs": [
    {
     "name": "stdout",
     "output_type": "stream",
     "text": [
      "\n",
      "Final XGBoost Regressor Performance Metrics with Tuned Hyperparameters:\n",
      "Mean Absolute Error (MAE): 0.49\n",
      "Mean Squared Error (MSE): 0.47\n",
      "Root Mean Squared Error (RMSE): 0.68\n",
      "Mean Absolute Percentage Error (MAPE): 186.27 %\n",
      "R^2 Score: 0.55\n"
     ]
    }
   ],
   "source": [
    "# Initialize the XGBoost Regressor with the best parameters\n",
    "final_xgb_model = XGBRegressor(\n",
    "    n_estimators=best_params_xgb['n_estimators'],\n",
    "    max_depth=best_params_xgb['max_depth'],\n",
    "    learning_rate=best_params_xgb['learning_rate'],\n",
    "    subsample=best_params_xgb['subsample'],\n",
    "    colsample_bytree=best_params_xgb['colsample_bytree'],\n",
    "    gamma=best_params_xgb['gamma'],\n",
    "    random_state=42,\n",
    "    verbosity=1\n",
    ")\n",
    "\n",
    "# Train the model on the entire training dataset\n",
    "final_xgb_model.fit(X_train, y_train)\n",
    "\n",
    "# Make predictions on the test set\n",
    "y_pred_xgb_final = final_xgb_model.predict(X_test)\n",
    "\n",
    "# Evaluate the final model on the test set\n",
    "mae_xgb_final = mean_absolute_error(y_test, y_pred_xgb_final)\n",
    "mse_xgb_final = mean_squared_error(y_test, y_pred_xgb_final)\n",
    "rmse_xgb_final = np.sqrt(mse_xgb_final)\n",
    "mape_xgb_final = mean_absolute_percentage_error(y_test, y_pred_xgb_final)\n",
    "r2_xgb_final = r2_score(y_test, y_pred_xgb_final)\n",
    "\n",
    "# Display the final performance metrics\n",
    "print(\"\\nFinal XGBoost Regressor Performance Metrics with Tuned Hyperparameters:\")\n",
    "print(\"Mean Absolute Error (MAE):\", np.round(mae_xgb_final, 2))\n",
    "print(\"Mean Squared Error (MSE):\", np.round(mse_xgb_final, 2))\n",
    "print(\"Root Mean Squared Error (RMSE):\", np.round(rmse_xgb_final, 2))\n",
    "print(\"Mean Absolute Percentage Error (MAPE):\", np.round(mape_xgb_final * 100, 2), \"%\")\n",
    "print(\"R^2 Score:\", np.round(r2_xgb_final, 2))\n"
   ]
  },
  {
   "cell_type": "code",
   "execution_count": 21,
   "metadata": {},
   "outputs": [
    {
     "name": "stdout",
     "output_type": "stream",
     "text": [
      "Fitting 5 folds for each of 50 candidates, totalling 250 fits\n",
      "Best Parameters from Advanced RandomizedSearchCV for XGBoost: {'subsample': 1.0, 'reg_lambda': 0.5, 'reg_alpha': 0.5, 'n_estimators': 300, 'max_depth': 5, 'learning_rate': 0.05, 'gamma': 0.3, 'colsample_bytree': 0.8}\n",
      "Best RMSE Score from Advanced RandomizedSearchCV for XGBoost: 0.6747285233797824\n"
     ]
    }
   ],
   "source": [
    "from sklearn.model_selection import RandomizedSearchCV\n",
    "from xgboost import XGBRegressor\n",
    "\n",
    "# Define the extended parameter grid for XGBoost\n",
    "param_dist_xgb_advanced = {\n",
    "    'n_estimators': [100, 200, 300, 500],\n",
    "    'max_depth': [3, 5, 7, 10],\n",
    "    'learning_rate': [0.01, 0.05, 0.1, 0.2],\n",
    "    'subsample': [0.6, 0.8, 1.0],\n",
    "    'colsample_bytree': [0.6, 0.8, 1.0],\n",
    "    'gamma': [0, 0.1, 0.2, 0.3, 0.4],\n",
    "    'reg_alpha': [0, 0.1, 0.5, 1.0],\n",
    "    'reg_lambda': [0.5, 1.0, 1.5, 2.0]\n",
    "}\n",
    "\n",
    "# Initialize RandomizedSearchCV\n",
    "random_search_xgb_advanced = RandomizedSearchCV(\n",
    "    estimator=XGBRegressor(random_state=42, verbosity=1),\n",
    "    param_distributions=param_dist_xgb_advanced,\n",
    "    n_iter=50,  # Increase this for a larger search, but it will take more time\n",
    "    scoring='neg_root_mean_squared_error',\n",
    "    cv=5,\n",
    "    n_jobs=-1,\n",
    "    verbose=1,\n",
    "    random_state=42\n",
    ")\n",
    "\n",
    "# Fit the RandomizedSearchCV model on the training data\n",
    "random_search_xgb_advanced.fit(X_train, y_train)\n",
    "\n",
    "# Extract the best parameters and score\n",
    "best_params_xgb_advanced = random_search_xgb_advanced.best_params_\n",
    "best_score_xgb_advanced = -random_search_xgb_advanced.best_score_\n",
    "\n",
    "print(\"Best Parameters from Advanced RandomizedSearchCV for XGBoost:\", best_params_xgb_advanced)\n",
    "print(\"Best RMSE Score from Advanced RandomizedSearchCV for XGBoost:\", best_score_xgb_advanced)\n"
   ]
  },
  {
   "cell_type": "code",
   "execution_count": 22,
   "metadata": {},
   "outputs": [
    {
     "name": "stdout",
     "output_type": "stream",
     "text": [
      "\n",
      "Final Advanced XGBoost Regressor Performance Metrics:\n",
      "Mean Absolute Error (MAE): 0.49\n",
      "Mean Squared Error (MSE): 0.47\n",
      "Root Mean Squared Error (RMSE): 0.69\n",
      "Mean Absolute Percentage Error (MAPE): 190.52 %\n",
      "R^2 Score: 0.55\n"
     ]
    }
   ],
   "source": [
    "# Initialize the XGBoost Regressor with the advanced best parameters\n",
    "final_xgb_model_advanced = XGBRegressor(\n",
    "    n_estimators=best_params_xgb_advanced['n_estimators'],\n",
    "    max_depth=best_params_xgb_advanced['max_depth'],\n",
    "    learning_rate=best_params_xgb_advanced['learning_rate'],\n",
    "    subsample=best_params_xgb_advanced['subsample'],\n",
    "    colsample_bytree=best_params_xgb_advanced['colsample_bytree'],\n",
    "    gamma=best_params_xgb_advanced['gamma'],\n",
    "    reg_alpha=best_params_xgb_advanced['reg_alpha'],\n",
    "    reg_lambda=best_params_xgb_advanced['reg_lambda'],\n",
    "    random_state=42,\n",
    "    verbosity=1\n",
    ")\n",
    "\n",
    "# Train the model on the entire training dataset\n",
    "final_xgb_model_advanced.fit(X_train, y_train)\n",
    "\n",
    "# Make predictions on the test set\n",
    "y_pred_xgb_advanced = final_xgb_model_advanced.predict(X_test)\n",
    "\n",
    "# Evaluate the final model on the test set\n",
    "mae_xgb_advanced = mean_absolute_error(y_test, y_pred_xgb_advanced)\n",
    "mse_xgb_advanced = mean_squared_error(y_test, y_pred_xgb_advanced)\n",
    "rmse_xgb_advanced = np.sqrt(mse_xgb_advanced)\n",
    "mape_xgb_advanced = mean_absolute_percentage_error(y_test, y_pred_xgb_advanced)\n",
    "r2_xgb_advanced = r2_score(y_test, y_pred_xgb_advanced)\n",
    "\n",
    "# Display the final performance metrics\n",
    "print(\"\\nFinal Advanced XGBoost Regressor Performance Metrics:\")\n",
    "print(\"Mean Absolute Error (MAE):\", np.round(mae_xgb_advanced, 2))\n",
    "print(\"Mean Squared Error (MSE):\", np.round(mse_xgb_advanced, 2))\n",
    "print(\"Root Mean Squared Error (RMSE):\", np.round(rmse_xgb_advanced, 2))\n",
    "print(\"Mean Absolute Percentage Error (MAPE):\", np.round(mape_xgb_advanced * 100, 2), \"%\")\n",
    "print(\"R^2 Score:\", np.round(r2_xgb_advanced, 2))\n"
   ]
  },
  {
   "cell_type": "markdown",
   "metadata": {},
   "source": [
    "04.11.24\n",
    "Since the model is far from ideal, I want to try to divide the property type separately into houses and apartments, and then somehow calculate the price per square meter and how it can increase as a price per room in square meters."
   ]
  },
  {
   "cell_type": "code",
   "execution_count": 9,
   "metadata": {},
   "outputs": [],
   "source": [
    "from sklearn.model_selection import train_test_split\n",
    "import numpy as np\n",
    "\n",
    "# Split the data into features and target variable\n",
    "X = data_encoded.drop('Price', axis=1)  # Assuming 'Price' is the target variable\n",
    "y = data_encoded['Price']\n",
    "\n",
    "# Split the data into training and testing sets\n",
    "X_train, X_test, y_train, y_test = train_test_split(X, y, test_size=0.2, random_state=42)\n",
    "\n",
    "# Apply logarithmic transformation to the target variable\n",
    "y_train_log = np.log1p(y_train)  # log1p avoids log(0) issues\n",
    "y_test_log = np.log1p(y_test)\n"
   ]
  },
  {
   "cell_type": "code",
   "execution_count": 10,
   "metadata": {},
   "outputs": [],
   "source": [
    "# Apply logarithmic transformation to the target variable\n",
    "y_train_log = np.log1p(y_train)  # log1p avoids log(0) issues\n",
    "y_test_log = np.log1p(y_test)\n"
   ]
  },
  {
   "cell_type": "markdown",
   "metadata": {},
   "source": [
    "This code implements three models for predicting real estate prices - linear regression, random forest, and XGBoost. I applied a logarithmic transformation to the target variable to smooth the distribution and reduce the effect of large values. Each model is trained on the transformed data, and after prediction, the results are returned to the original scale.\n",
    "\n",
    "Next, I evaluated the accuracy of each model using metrics such as MAE, RMSE, MAPE, and R². This made it possible to compare performance and determine which of the models better predicts prices."
   ]
  },
  {
   "cell_type": "code",
   "execution_count": 13,
   "metadata": {},
   "outputs": [
    {
     "name": "stdout",
     "output_type": "stream",
     "text": [
      "\n",
      "Linear Regression Performance Metrics:\n",
      "MAE: 115786.56 MSE: 125769077545.9 RMSE: 354639.36 MAPE: 31.7 % R^2: -2.34\n",
      "\n",
      "Random Forest Performance Metrics:\n",
      "MAE: 97448.53 MSE: 19654965360.83 RMSE: 140196.17 MAPE: 27.1 % R^2: 0.48\n",
      "\n",
      "XGBoost Performance Metrics:\n",
      "MAE: 94024.19 MSE: 18923072802.64 RMSE: 137561.16 MAPE: 26.35 % R^2: 0.5\n"
     ]
    }
   ],
   "source": [
    "from sklearn.linear_model import LinearRegression\n",
    "from sklearn.ensemble import RandomForestRegressor\n",
    "from xgboost import XGBRegressor\n",
    "from sklearn.metrics import mean_absolute_error, mean_squared_error, mean_absolute_percentage_error, r2_score\n",
    "import numpy as np\n",
    "\n",
    "# Apply logarithmic transformation to the target variable\n",
    "y_train_log = np.log1p(y_train)  # log1p to avoid log(0)\n",
    "y_test_log = np.log1p(y_test)\n",
    "\n",
    "# Initialize models\n",
    "linear_model = LinearRegression()\n",
    "rf_model = RandomForestRegressor(random_state=42)\n",
    "xgb_model = XGBRegressor(random_state=42)\n",
    "\n",
    "# Train and predict for Linear Regression\n",
    "linear_model.fit(X_train, y_train_log)\n",
    "y_pred_log_lr = linear_model.predict(X_test)\n",
    "y_pred_lr = np.expm1(y_pred_log_lr)\n",
    "\n",
    "# Train and predict for Random Forest\n",
    "rf_model.fit(X_train, y_train_log)\n",
    "y_pred_log_rf = rf_model.predict(X_test)\n",
    "y_pred_rf = np.expm1(y_pred_log_rf)\n",
    "\n",
    "# Train and predict for XGBoost\n",
    "xgb_model.fit(X_train, y_train_log)\n",
    "y_pred_log_xgb = xgb_model.predict(X_test)\n",
    "y_pred_xgb = np.expm1(y_pred_log_xgb)\n",
    "\n",
    "# Evaluation function\n",
    "def evaluate_model(y_test, y_pred, model_name):\n",
    "    mae = mean_absolute_error(y_test, y_pred)\n",
    "    mse = mean_squared_error(y_test, y_pred)\n",
    "    rmse = np.sqrt(mse)\n",
    "    mape = mean_absolute_percentage_error(y_test, y_pred)\n",
    "    r2 = r2_score(y_test, y_pred)\n",
    "\n",
    "    print(f\"\\n{model_name} Performance Metrics:\")\n",
    "    print(\"MAE:\", np.round(mae, 2), \"MSE:\", np.round(mse, 2), \"RMSE:\", np.round(rmse, 2), \n",
    "          \"MAPE:\", np.round(mape * 100, 2), \"%\", \"R^2:\", np.round(r2, 2))\n",
    "\n",
    "# Evaluate each model\n",
    "evaluate_model(y_test, y_pred_lr, \"Linear Regression\")\n",
    "evaluate_model(y_test, y_pred_rf, \"Random Forest\")\n",
    "evaluate_model(y_test, y_pred_xgb, \"XGBoost\")\n",
    "\n"
   ]
  },
  {
   "cell_type": "markdown",
   "metadata": {},
   "source": [
    "XGBoost has the best accuracy and lowest error among the three models."
   ]
  },
  {
   "cell_type": "markdown",
   "metadata": {},
   "source": [
    "Prepare the data for machine learning, including removing redundant columns and encoding categorical variables\n",
    "Removing columns, Label Encoding for categorical variables(Building condition та Region), One-hot Encoding for Property type(Property type), The drop_first=True option drops one of the categories to avoid multicollinearity, leaving the base category as the reference."
   ]
  },
  {
   "cell_type": "code",
   "execution_count": 37,
   "metadata": {},
   "outputs": [
    {
     "name": "stdout",
     "output_type": "stream",
     "text": [
      "Columns after encoding:\n",
      "Index(['Price', 'Number of bedrooms', 'Living area m²', 'Equipped kitchen',\n",
      "       'Furnished', 'Swimming pool', 'Building condition', 'Region',\n",
      "       'Property type_house'],\n",
      "      dtype='object')\n",
      "First few rows of the encoded dataset:\n",
      "    Price  Number of bedrooms  Living area m²  Equipped kitchen  Furnished  \\\n",
      "0  999999                 2.0           118.0                 0          0   \n",
      "1  999999                13.0           778.0                 1          0   \n",
      "2  999999                 2.0           118.0                 0          0   \n",
      "3  999000                 4.0           345.0                 1          1   \n",
      "4  997000                 3.0           144.0                 0          0   \n",
      "\n",
      "   Swimming pool  Building condition  Region  Property type_house  \n",
      "0              0                   1       2                False  \n",
      "1              0                   2       3                 True  \n",
      "2              0                   1       2                False  \n",
      "3              0                   2       2                 True  \n",
      "4              0                   1       1                False  \n"
     ]
    }
   ],
   "source": [
    "import pandas as pd\n",
    "from sklearn.preprocessing import LabelEncoder\n",
    "\n",
    "# Load the dataset\n",
    "file_path = r'C:\\Users\\Anastasiia\\Documents\\GitHub\\immo-eliza-ml\\Data\\cleaned_data_with_region_and_price_per_m2.csv'\n",
    "data = pd.read_csv(file_path)\n",
    "\n",
    "# Specify columns to drop\n",
    "columns_to_drop = [\n",
    "    'Unnamed: 0', \n",
    "    'Property ID', \n",
    "    'Locality data', \n",
    "    'Open fire', \n",
    "    'Terrace surface m²', \n",
    "    'Garden area m²', \n",
    "    'Price per m²', \n",
    "    'Province'\n",
    "]\n",
    "\n",
    "# Drop the specified columns\n",
    "data_reduced = data.drop(columns=columns_to_drop)\n",
    "\n",
    "# Apply Label Encoding to 'Building condition' and 'Region' columns\n",
    "label_encoder = LabelEncoder()\n",
    "data_reduced['Building condition'] = label_encoder.fit_transform(data_reduced['Building condition']) + 1\n",
    "data_reduced['Region'] = label_encoder.fit_transform(data_reduced['Region']) + 1\n",
    "\n",
    "# Apply One-hot Encoding to 'Property type' column without dropping the base level\n",
    "data_encoded = pd.get_dummies(data_reduced, columns=['Property type'], drop_first=True)\n",
    "\n",
    "# Display the column names after encoding to verify the changes\n",
    "print(\"Columns after encoding:\")\n",
    "print(data_encoded.columns)\n",
    "\n",
    "# Display the first few rows to review the transformed data\n",
    "print(\"First few rows of the encoded dataset:\")\n",
    "print(data_encoded.head())\n",
    "\n"
   ]
  },
  {
   "cell_type": "code",
   "execution_count": 40,
   "metadata": {},
   "outputs": [
    {
     "name": "stdout",
     "output_type": "stream",
     "text": [
      "Columns after encoding:\n",
      "Index(['Price', 'Number of bedrooms', 'Living area m²', 'Equipped kitchen',\n",
      "       'Furnished', 'Swimming pool', 'Building condition', 'Region',\n",
      "       'Property type_apartment', 'Property type_house'],\n",
      "      dtype='object')\n",
      "Data shape for apartments: (3302, 9) (3302,)\n",
      "Data shape for houses: (3382, 9) (3382,)\n"
     ]
    }
   ],
   "source": [
    "import pandas as pd\n",
    "from sklearn.model_selection import train_test_split\n",
    "from sklearn.preprocessing import LabelEncoder\n",
    "\n",
    "# Load the dataset\n",
    "file_path = r'C:\\Users\\Anastasiia\\Documents\\GitHub\\immo-eliza-ml\\Data\\cleaned_data_with_region_and_price_per_m2.csv'\n",
    "data = pd.read_csv(file_path)\n",
    "\n",
    "# Specify columns to drop\n",
    "columns_to_drop = [\n",
    "    'Unnamed: 0', \n",
    "    'Property ID', \n",
    "    'Locality data', \n",
    "    'Open fire', \n",
    "    'Terrace surface m²', \n",
    "    'Garden area m²', \n",
    "    'Price per m²', \n",
    "    'Province'\n",
    "]\n",
    "\n",
    "# Drop the specified columns\n",
    "data_reduced = data.drop(columns=columns_to_drop)\n",
    "\n",
    "# Encode categorical variables\n",
    "label_encoder = LabelEncoder()\n",
    "data_reduced['Building condition'] = label_encoder.fit_transform(data_reduced['Building condition']) + 1\n",
    "data_reduced['Region'] = label_encoder.fit_transform(data_reduced['Region']) + 1\n",
    "\n",
    "# One-hot encode 'Property type' without dropping any columns\n",
    "data_encoded = pd.get_dummies(data_reduced, columns=['Property type'])\n",
    "\n",
    "# Validate all columns after encoding\n",
    "print(\"Columns after encoding:\")\n",
    "print(data_encoded.columns)\n",
    "\n",
    "# Define the target variable and features\n",
    "X = data_encoded.drop('Price', axis=1)\n",
    "y = data_encoded['Price']\n",
    "\n",
    "# Split the data into training and test sets\n",
    "X_train, X_test, y_train, y_test = train_test_split(X, y, test_size=0.2, random_state=42)\n",
    "\n",
    "# Additional check: segmentation of data into \"apartments\" and \"houses\" if such columns exist\n",
    "if 'Property type_apartment' in X_train.columns and 'Property type_house' in X_train.columns:\n",
    "    X_train_apartments = X_train[X_train['Property type_apartment'] == 1]\n",
    "    y_train_apartments = y_train[X_train['Property type_apartment'] == 1]\n",
    "\n",
    "    X_train_houses = X_train[X_train['Property type_house'] == 1]\n",
    "    y_train_houses = y_train[X_train['Property type_house'] == 1]\n",
    "\n",
    "    print(\"Data shape for apartments:\", X_train_apartments.shape, y_train_apartments.shape)\n",
    "    print(\"Data shape for houses:\", X_train_houses.shape, y_train_houses.shape)\n",
    "else:\n",
    "    print(\"The columns for the 'Property type' category are missing or have different names.\")\n"
   ]
  },
  {
   "cell_type": "code",
   "execution_count": 41,
   "metadata": {},
   "outputs": [
    {
     "name": "stdout",
     "output_type": "stream",
     "text": [
      "count      6684.000000\n",
      "mean     377320.231448\n",
      "std      188835.066191\n",
      "min       35000.000000\n",
      "25%      239000.000000\n",
      "50%      335000.000000\n",
      "75%      460000.000000\n",
      "max      999999.000000\n",
      "Name: Price, dtype: float64\n"
     ]
    }
   ],
   "source": [
    "# Identification of potential outliers using summary of descriptive statistics\n",
    "print(y_train.describe())\n",
    "\n",
    "# For example, removing values ​​above a certain threshold, such as the 99th percentile\n",
    "threshold = y_train.quantile(0.99)\n",
    "X_train_no_outliers = X_train[y_train < threshold]\n",
    "y_train_no_outliers = y_train[y_train < threshold]"
   ]
  },
  {
   "cell_type": "markdown",
   "metadata": {},
   "source": [
    "This approach cleans the data by removing extreme price values ​​to make the model more stable and accurate."
   ]
  },
  {
   "cell_type": "code",
   "execution_count": 42,
   "metadata": {},
   "outputs": [
    {
     "name": "stdout",
     "output_type": "stream",
     "text": [
      "Descriptive statistics for the target variable (Price):\n",
      "count      6684.000000\n",
      "mean     377320.231448\n",
      "std      188835.066191\n",
      "min       35000.000000\n",
      "25%      239000.000000\n",
      "50%      335000.000000\n",
      "75%      460000.000000\n",
      "max      999999.000000\n",
      "Name: Price, dtype: float64\n",
      "\n",
      "Shape of data after removing outliers:\n",
      "X_train_no_outliers: (6616, 9)\n",
      "y_train_no_outliers: (6616,)\n"
     ]
    }
   ],
   "source": [
    "from sklearn.model_selection import train_test_split\n",
    "import numpy as np\n",
    "\n",
    "# Display descriptive statistics for the target variable\n",
    "print(\"Descriptive statistics for the target variable (Price):\")\n",
    "print(y_train.describe())\n",
    "\n",
    "# Set the threshold for outliers (99th percentile)\n",
    "threshold = y_train.quantile(0.99)\n",
    "\n",
    "# Filter out outliers from the training set\n",
    "X_train_no_outliers = X_train[y_train < threshold]\n",
    "y_train_no_outliers = y_train[y_train < threshold]\n",
    "\n",
    "print(\"\\nShape of data after removing outliers:\")\n",
    "print(\"X_train_no_outliers:\", X_train_no_outliers.shape)\n",
    "print(\"y_train_no_outliers:\", y_train_no_outliers.shape)\n"
   ]
  },
  {
   "cell_type": "markdown",
   "metadata": {},
   "source": [
    "Окремо для будинків та квартир СЕГМЕНТАЦІЯ"
   ]
  },
  {
   "cell_type": "code",
   "execution_count": 43,
   "metadata": {},
   "outputs": [
    {
     "name": "stdout",
     "output_type": "stream",
     "text": [
      "Shape of data for apartments: (3275, 9) (3275,)\n",
      "Shape of data for houses: (3341, 9) (3341,)\n",
      "Models trained separately for apartments and houses.\n"
     ]
    }
   ],
   "source": [
    "from xgboost import XGBRegressor\n",
    "\n",
    "# Check if the necessary columns for 'Property type' segmentation exist\n",
    "if 'Property type_apartment' in X_train_no_outliers.columns and 'Property type_house' in X_train_no_outliers.columns:\n",
    "    # Segment data for apartments\n",
    "    X_train_apartments = X_train_no_outliers[X_train_no_outliers['Property type_apartment'] == 1]\n",
    "    y_train_apartments = y_train_no_outliers[X_train_no_outliers['Property type_apartment'] == 1]\n",
    "\n",
    "    # Segment data for houses\n",
    "    X_train_houses = X_train_no_outliers[X_train_no_outliers['Property type_house'] == 1]\n",
    "    y_train_houses = y_train_no_outliers[X_train_no_outliers['Property type_house'] == 1]\n",
    "\n",
    "    print(\"Shape of data for apartments:\", X_train_apartments.shape, y_train_apartments.shape)\n",
    "    print(\"Shape of data for houses:\", X_train_houses.shape, y_train_houses.shape)\n",
    "\n",
    "    # Initialize and train separate models for each property type\n",
    "    # Replace 'best_params_xgb_advanced' with your actual parameters if needed\n",
    "    xgb_apartment_model = XGBRegressor(**best_params_xgb_advanced, random_state=42)\n",
    "    xgb_apartment_model.fit(X_train_apartments, y_train_apartments)\n",
    "\n",
    "    xgb_house_model = XGBRegressor(**best_params_xgb_advanced, random_state=42)\n",
    "    xgb_house_model.fit(X_train_houses, y_train_houses)\n",
    "\n",
    "    print(\"Models trained separately for apartments and houses.\")\n",
    "else:\n",
    "    print(\"Columns for 'Property type' segmentation are missing or named differently.\")\n"
   ]
  },
  {
   "cell_type": "markdown",
   "metadata": {},
   "source": [
    "Збалансування ваг для цільових значень\n",
    "Ми будемо використовувати обернені значення цільової змінної як ваги для тренувальних даних."
   ]
  },
  {
   "cell_type": "code",
   "execution_count": 44,
   "metadata": {},
   "outputs": [
    {
     "name": "stdout",
     "output_type": "stream",
     "text": [
      "Weighted models trained for apartments and houses.\n"
     ]
    }
   ],
   "source": [
    "# Calculate weights inversely proportional to target variable values\n",
    "weights_apartments = 1 / y_train_apartments\n",
    "weights_houses = 1 / y_train_houses\n",
    "\n",
    "# Train the apartment model with sample weights\n",
    "xgb_apartment_model_weighted = XGBRegressor(**best_params_xgb_advanced, random_state=42)\n",
    "xgb_apartment_model_weighted.fit(X_train_apartments, y_train_apartments, sample_weight=weights_apartments)\n",
    "\n",
    "# Train the house model with sample weights\n",
    "xgb_house_model_weighted = XGBRegressor(**best_params_xgb_advanced, random_state=42)\n",
    "xgb_house_model_weighted.fit(X_train_houses, y_train_houses, sample_weight=weights_houses)\n",
    "\n",
    "print(\"Weighted models trained for apartments and houses.\")\n"
   ]
  },
  {
   "cell_type": "code",
   "execution_count": 45,
   "metadata": {},
   "outputs": [
    {
     "name": "stdout",
     "output_type": "stream",
     "text": [
      "Optimized models trained for apartments and houses with updated parameters.\n"
     ]
    }
   ],
   "source": [
    "# Update the parameters for more precise learning\n",
    "optimized_params = best_params_xgb_advanced.copy()\n",
    "optimized_params.update({\n",
    "    'learning_rate': 0.01,  # smaller learning rate for finer updates\n",
    "    'n_estimators': 1000    # increased number of estimators\n",
    "})\n",
    "\n",
    "# Train the optimized apartment model with new parameters\n",
    "final_xgb_optimized_apartment = XGBRegressor(**optimized_params, random_state=42)\n",
    "final_xgb_optimized_apartment.fit(X_train_apartments, y_train_apartments, sample_weight=weights_apartments)\n",
    "\n",
    "# Train the optimized house model with new parameters\n",
    "final_xgb_optimized_house = XGBRegressor(**optimized_params, random_state=42)\n",
    "final_xgb_optimized_house.fit(X_train_houses, y_train_houses, sample_weight=weights_houses)\n",
    "\n",
    "print(\"Optimized models trained for apartments and houses with updated parameters.\")\n"
   ]
  },
  {
   "cell_type": "markdown",
   "metadata": {},
   "source": [
    "Інженерія ознак. додамо нові ознаки, такі як ціна за квадратний метр та кількість спалень на квадратний метр, щоб допомогти моделі краще захопити зв'язки в даних."
   ]
  },
  {
   "cell_type": "code",
   "execution_count": 61,
   "metadata": {},
   "outputs": [
    {
     "name": "stdout",
     "output_type": "stream",
     "text": [
      "Training set shape: (6684, 11)\n",
      "Test set shape: (1672, 11)\n",
      "New features added: price_per_sqm, bedrooms_per_sqm\n",
      "    Price  Number of bedrooms  Living area m²  Equipped kitchen  Furnished  \\\n",
      "0  999999                 2.0           118.0                 0          0   \n",
      "1  999999                13.0           778.0                 1          0   \n",
      "2  999999                 2.0           118.0                 0          0   \n",
      "3  999000                 4.0           345.0                 1          1   \n",
      "4  997000                 3.0           144.0                 0          0   \n",
      "\n",
      "   Swimming pool  Building condition  Region  Property type_apartment  \\\n",
      "0              0                   1       2                        1   \n",
      "1              0                   2       3                        0   \n",
      "2              0                   1       2                        1   \n",
      "3              0                   2       2                        0   \n",
      "4              0                   1       1                        1   \n",
      "\n",
      "   Property type_house  price_per_sqm  bedrooms_per_sqm  \n",
      "0                    0        8403.35             0.017  \n",
      "1                    1        1283.70             0.017  \n",
      "2                    0        8403.35             0.017  \n",
      "3                    1        2887.28             0.012  \n",
      "4                    0        6875.86             0.021  \n"
     ]
    }
   ],
   "source": [
    "import pandas as pd\n",
    "from sklearn.model_selection import train_test_split\n",
    "\n",
    "# Adding new features to the dataset\n",
    "data_encoded['price_per_sqm'] = (data_encoded['Price'] / (data_encoded['Living area m²'] + 1)).round(2)\n",
    "data_encoded['bedrooms_per_sqm'] = (data_encoded['Number of bedrooms'] / (data_encoded['Living area m²'] + 1)).round(3)\n",
    "\n",
    "# Redefine target variable and features after adding new features\n",
    "X = data_encoded.drop('Price', axis=1)\n",
    "y = data_encoded['Price']\n",
    "\n",
    "# Split data into training and testing sets\n",
    "X_train, X_test, y_train, y_test = train_test_split(X, y, test_size=0.2, random_state=42)\n",
    "\n",
    "# Check the shape to confirm the new features were added\n",
    "print(\"Training set shape:\", X_train.shape)\n",
    "print(\"Test set shape:\", X_test.shape)\n",
    "print(\"New features added: price_per_sqm, bedrooms_per_sqm\")\n",
    "print(data_encoded.head())\n",
    "\n"
   ]
  },
  {
   "cell_type": "code",
   "execution_count": 62,
   "metadata": {},
   "outputs": [
    {
     "name": "stdout",
     "output_type": "stream",
     "text": [
      "Converted columns:\n",
      "   Building condition  Region  Property type_house  Property type_apartment\n",
      "0                   1       2                    0                        1\n",
      "1                   2       3                    1                        0\n",
      "2                   1       2                    0                        1\n",
      "3                   2       2                    1                        0\n",
      "4                   1       1                    0                        1\n",
      "Data types in data_encoded after conversion:\n",
      "Price                        int64\n",
      "Number of bedrooms         float64\n",
      "Living area m²             float64\n",
      "Equipped kitchen             int64\n",
      "Furnished                    int64\n",
      "Swimming pool                int64\n",
      "Building condition           int64\n",
      "Region                       int64\n",
      "Property type_apartment      int64\n",
      "Property type_house          int64\n",
      "price_per_sqm              float64\n",
      "bedrooms_per_sqm           float64\n",
      "dtype: object\n",
      "    Price  Number of bedrooms  Living area m²  Equipped kitchen  Furnished  \\\n",
      "0  999999                 2.0           118.0                 0          0   \n",
      "1  999999                13.0           778.0                 1          0   \n",
      "2  999999                 2.0           118.0                 0          0   \n",
      "3  999000                 4.0           345.0                 1          1   \n",
      "4  997000                 3.0           144.0                 0          0   \n",
      "\n",
      "   Swimming pool  Building condition  Region  Property type_apartment  \\\n",
      "0              0                   1       2                        1   \n",
      "1              0                   2       3                        0   \n",
      "2              0                   1       2                        1   \n",
      "3              0                   2       2                        0   \n",
      "4              0                   1       1                        1   \n",
      "\n",
      "   Property type_house  price_per_sqm  bedrooms_per_sqm  \n",
      "0                    0        8403.35             0.017  \n",
      "1                    1        1283.70             0.017  \n",
      "2                    0        8403.35             0.017  \n",
      "3                    1        2887.28             0.012  \n",
      "4                    0        6875.86             0.021  \n"
     ]
    }
   ],
   "source": [
    "# List of columns to convert, including the new 'Property type' columns\n",
    "columns_to_convert = ['Building condition', 'Region', 'Property type_house', 'Property type_apartment']\n",
    "\n",
    "# Convert True/False values ​​​​to 1/0 in specified columns\n",
    "data_encoded[columns_to_convert] = data_encoded[columns_to_convert].astype(int)\n",
    "\n",
    "# Check the result\n",
    "print(\"Converted columns:\")\n",
    "print(data_encoded[columns_to_convert].head())\n",
    "print(\"Data types in data_encoded after conversion:\")\n",
    "print(data_encoded.dtypes)\n",
    "print(data_encoded.head())\n"
   ]
  },
  {
   "cell_type": "markdown",
   "metadata": {},
   "source": [
    "Заключна оцінка моделей для сегментованих даних (квартири та будинки)\n",
    "Ми застосуємо моделі до тестового набору даних та оцінюватимемо їх за оновленими метриками."
   ]
  },
  {
   "cell_type": "code",
   "execution_count": 63,
   "metadata": {},
   "outputs": [
    {
     "name": "stderr",
     "output_type": "stream",
     "text": [
      "C:\\Users\\Anastasiia\\AppData\\Local\\Temp\\ipykernel_11816\\2769974156.py:21: RuntimeWarning: overflow encountered in expm1\n",
      "  y_pred_apartments = np.expm1(xgb_apartment_model.predict(X_test_apartments))\n",
      "C:\\Users\\Anastasiia\\AppData\\Local\\Temp\\ipykernel_11816\\2769974156.py:25: RuntimeWarning: overflow encountered in expm1\n",
      "  y_pred_houses = np.expm1(xgb_house_model.predict(X_test_houses))\n"
     ]
    },
    {
     "ename": "ValueError",
     "evalue": "Input contains infinity or a value too large for dtype('float32').",
     "output_type": "error",
     "traceback": [
      "\u001b[1;31m---------------------------------------------------------------------------\u001b[0m",
      "\u001b[1;31mValueError\u001b[0m                                Traceback (most recent call last)",
      "Cell \u001b[1;32mIn[63], line 32\u001b[0m\n\u001b[0;32m     29\u001b[0m y_pred_combined \u001b[38;5;241m=\u001b[39m np\u001b[38;5;241m.\u001b[39mconcatenate([y_pred_apartments, y_pred_houses])\n\u001b[0;32m     31\u001b[0m \u001b[38;5;66;03m# Calculate and print final evaluation metrics\u001b[39;00m\n\u001b[1;32m---> 32\u001b[0m mae_final \u001b[38;5;241m=\u001b[39m \u001b[43mmean_absolute_error\u001b[49m\u001b[43m(\u001b[49m\u001b[43my_test_combined\u001b[49m\u001b[43m,\u001b[49m\u001b[43m \u001b[49m\u001b[43my_pred_combined\u001b[49m\u001b[43m)\u001b[49m\n\u001b[0;32m     33\u001b[0m mse_final \u001b[38;5;241m=\u001b[39m mean_squared_error(y_test_combined, y_pred_combined)\n\u001b[0;32m     34\u001b[0m rmse_final \u001b[38;5;241m=\u001b[39m np\u001b[38;5;241m.\u001b[39msqrt(mse_final)\n",
      "File \u001b[1;32mc:\\Users\\Anastasiia\\Documents\\GitHub\\immo-eliza-ml\\.venv\\Lib\\site-packages\\sklearn\\utils\\_param_validation.py:213\u001b[0m, in \u001b[0;36mvalidate_params.<locals>.decorator.<locals>.wrapper\u001b[1;34m(*args, **kwargs)\u001b[0m\n\u001b[0;32m    207\u001b[0m \u001b[38;5;28;01mtry\u001b[39;00m:\n\u001b[0;32m    208\u001b[0m     \u001b[38;5;28;01mwith\u001b[39;00m config_context(\n\u001b[0;32m    209\u001b[0m         skip_parameter_validation\u001b[38;5;241m=\u001b[39m(\n\u001b[0;32m    210\u001b[0m             prefer_skip_nested_validation \u001b[38;5;129;01mor\u001b[39;00m global_skip_validation\n\u001b[0;32m    211\u001b[0m         )\n\u001b[0;32m    212\u001b[0m     ):\n\u001b[1;32m--> 213\u001b[0m         \u001b[38;5;28;01mreturn\u001b[39;00m \u001b[43mfunc\u001b[49m\u001b[43m(\u001b[49m\u001b[38;5;241;43m*\u001b[39;49m\u001b[43margs\u001b[49m\u001b[43m,\u001b[49m\u001b[43m \u001b[49m\u001b[38;5;241;43m*\u001b[39;49m\u001b[38;5;241;43m*\u001b[39;49m\u001b[43mkwargs\u001b[49m\u001b[43m)\u001b[49m\n\u001b[0;32m    214\u001b[0m \u001b[38;5;28;01mexcept\u001b[39;00m InvalidParameterError \u001b[38;5;28;01mas\u001b[39;00m e:\n\u001b[0;32m    215\u001b[0m     \u001b[38;5;66;03m# When the function is just a wrapper around an estimator, we allow\u001b[39;00m\n\u001b[0;32m    216\u001b[0m     \u001b[38;5;66;03m# the function to delegate validation to the estimator, but we replace\u001b[39;00m\n\u001b[0;32m    217\u001b[0m     \u001b[38;5;66;03m# the name of the estimator by the name of the function in the error\u001b[39;00m\n\u001b[0;32m    218\u001b[0m     \u001b[38;5;66;03m# message to avoid confusion.\u001b[39;00m\n\u001b[0;32m    219\u001b[0m     msg \u001b[38;5;241m=\u001b[39m re\u001b[38;5;241m.\u001b[39msub(\n\u001b[0;32m    220\u001b[0m         \u001b[38;5;124mr\u001b[39m\u001b[38;5;124m\"\u001b[39m\u001b[38;5;124mparameter of \u001b[39m\u001b[38;5;124m\\\u001b[39m\u001b[38;5;124mw+ must be\u001b[39m\u001b[38;5;124m\"\u001b[39m,\n\u001b[0;32m    221\u001b[0m         \u001b[38;5;124mf\u001b[39m\u001b[38;5;124m\"\u001b[39m\u001b[38;5;124mparameter of \u001b[39m\u001b[38;5;132;01m{\u001b[39;00mfunc\u001b[38;5;241m.\u001b[39m\u001b[38;5;18m__qualname__\u001b[39m\u001b[38;5;132;01m}\u001b[39;00m\u001b[38;5;124m must be\u001b[39m\u001b[38;5;124m\"\u001b[39m,\n\u001b[0;32m    222\u001b[0m         \u001b[38;5;28mstr\u001b[39m(e),\n\u001b[0;32m    223\u001b[0m     )\n",
      "File \u001b[1;32mc:\\Users\\Anastasiia\\Documents\\GitHub\\immo-eliza-ml\\.venv\\Lib\\site-packages\\sklearn\\metrics\\_regression.py:216\u001b[0m, in \u001b[0;36mmean_absolute_error\u001b[1;34m(y_true, y_pred, sample_weight, multioutput)\u001b[0m\n\u001b[0;32m    152\u001b[0m \u001b[38;5;129m@validate_params\u001b[39m(\n\u001b[0;32m    153\u001b[0m     {\n\u001b[0;32m    154\u001b[0m         \u001b[38;5;124m\"\u001b[39m\u001b[38;5;124my_true\u001b[39m\u001b[38;5;124m\"\u001b[39m: [\u001b[38;5;124m\"\u001b[39m\u001b[38;5;124marray-like\u001b[39m\u001b[38;5;124m\"\u001b[39m],\n\u001b[1;32m   (...)\u001b[0m\n\u001b[0;32m    162\u001b[0m     y_true, y_pred, \u001b[38;5;241m*\u001b[39m, sample_weight\u001b[38;5;241m=\u001b[39m\u001b[38;5;28;01mNone\u001b[39;00m, multioutput\u001b[38;5;241m=\u001b[39m\u001b[38;5;124m\"\u001b[39m\u001b[38;5;124muniform_average\u001b[39m\u001b[38;5;124m\"\u001b[39m\n\u001b[0;32m    163\u001b[0m ):\n\u001b[0;32m    164\u001b[0m \u001b[38;5;250m    \u001b[39m\u001b[38;5;124;03m\"\"\"Mean absolute error regression loss.\u001b[39;00m\n\u001b[0;32m    165\u001b[0m \n\u001b[0;32m    166\u001b[0m \u001b[38;5;124;03m    Read more in the :ref:`User Guide <mean_absolute_error>`.\u001b[39;00m\n\u001b[1;32m   (...)\u001b[0m\n\u001b[0;32m    214\u001b[0m \u001b[38;5;124;03m    np.float64(0.85...)\u001b[39;00m\n\u001b[0;32m    215\u001b[0m \u001b[38;5;124;03m    \"\"\"\u001b[39;00m\n\u001b[1;32m--> 216\u001b[0m     y_type, y_true, y_pred, multioutput \u001b[38;5;241m=\u001b[39m \u001b[43m_check_reg_targets\u001b[49m\u001b[43m(\u001b[49m\n\u001b[0;32m    217\u001b[0m \u001b[43m        \u001b[49m\u001b[43my_true\u001b[49m\u001b[43m,\u001b[49m\u001b[43m \u001b[49m\u001b[43my_pred\u001b[49m\u001b[43m,\u001b[49m\u001b[43m \u001b[49m\u001b[43mmultioutput\u001b[49m\n\u001b[0;32m    218\u001b[0m \u001b[43m    \u001b[49m\u001b[43m)\u001b[49m\n\u001b[0;32m    219\u001b[0m     check_consistent_length(y_true, y_pred, sample_weight)\n\u001b[0;32m    220\u001b[0m     output_errors \u001b[38;5;241m=\u001b[39m np\u001b[38;5;241m.\u001b[39maverage(np\u001b[38;5;241m.\u001b[39mabs(y_pred \u001b[38;5;241m-\u001b[39m y_true), weights\u001b[38;5;241m=\u001b[39msample_weight, axis\u001b[38;5;241m=\u001b[39m\u001b[38;5;241m0\u001b[39m)\n",
      "File \u001b[1;32mc:\\Users\\Anastasiia\\Documents\\GitHub\\immo-eliza-ml\\.venv\\Lib\\site-packages\\sklearn\\metrics\\_regression.py:113\u001b[0m, in \u001b[0;36m_check_reg_targets\u001b[1;34m(y_true, y_pred, multioutput, dtype, xp)\u001b[0m\n\u001b[0;32m    111\u001b[0m check_consistent_length(y_true, y_pred)\n\u001b[0;32m    112\u001b[0m y_true \u001b[38;5;241m=\u001b[39m check_array(y_true, ensure_2d\u001b[38;5;241m=\u001b[39m\u001b[38;5;28;01mFalse\u001b[39;00m, dtype\u001b[38;5;241m=\u001b[39mdtype)\n\u001b[1;32m--> 113\u001b[0m y_pred \u001b[38;5;241m=\u001b[39m \u001b[43mcheck_array\u001b[49m\u001b[43m(\u001b[49m\u001b[43my_pred\u001b[49m\u001b[43m,\u001b[49m\u001b[43m \u001b[49m\u001b[43mensure_2d\u001b[49m\u001b[38;5;241;43m=\u001b[39;49m\u001b[38;5;28;43;01mFalse\u001b[39;49;00m\u001b[43m,\u001b[49m\u001b[43m \u001b[49m\u001b[43mdtype\u001b[49m\u001b[38;5;241;43m=\u001b[39;49m\u001b[43mdtype\u001b[49m\u001b[43m)\u001b[49m\n\u001b[0;32m    115\u001b[0m \u001b[38;5;28;01mif\u001b[39;00m y_true\u001b[38;5;241m.\u001b[39mndim \u001b[38;5;241m==\u001b[39m \u001b[38;5;241m1\u001b[39m:\n\u001b[0;32m    116\u001b[0m     y_true \u001b[38;5;241m=\u001b[39m xp\u001b[38;5;241m.\u001b[39mreshape(y_true, (\u001b[38;5;241m-\u001b[39m\u001b[38;5;241m1\u001b[39m, \u001b[38;5;241m1\u001b[39m))\n",
      "File \u001b[1;32mc:\\Users\\Anastasiia\\Documents\\GitHub\\immo-eliza-ml\\.venv\\Lib\\site-packages\\sklearn\\utils\\validation.py:1064\u001b[0m, in \u001b[0;36mcheck_array\u001b[1;34m(array, accept_sparse, accept_large_sparse, dtype, order, copy, force_writeable, force_all_finite, ensure_2d, allow_nd, ensure_min_samples, ensure_min_features, estimator, input_name)\u001b[0m\n\u001b[0;32m   1058\u001b[0m     \u001b[38;5;28;01mraise\u001b[39;00m \u001b[38;5;167;01mValueError\u001b[39;00m(\n\u001b[0;32m   1059\u001b[0m         \u001b[38;5;124m\"\u001b[39m\u001b[38;5;124mFound array with dim \u001b[39m\u001b[38;5;132;01m%d\u001b[39;00m\u001b[38;5;124m. \u001b[39m\u001b[38;5;132;01m%s\u001b[39;00m\u001b[38;5;124m expected <= 2.\u001b[39m\u001b[38;5;124m\"\u001b[39m\n\u001b[0;32m   1060\u001b[0m         \u001b[38;5;241m%\u001b[39m (array\u001b[38;5;241m.\u001b[39mndim, estimator_name)\n\u001b[0;32m   1061\u001b[0m     )\n\u001b[0;32m   1063\u001b[0m \u001b[38;5;28;01mif\u001b[39;00m force_all_finite:\n\u001b[1;32m-> 1064\u001b[0m     \u001b[43m_assert_all_finite\u001b[49m\u001b[43m(\u001b[49m\n\u001b[0;32m   1065\u001b[0m \u001b[43m        \u001b[49m\u001b[43marray\u001b[49m\u001b[43m,\u001b[49m\n\u001b[0;32m   1066\u001b[0m \u001b[43m        \u001b[49m\u001b[43minput_name\u001b[49m\u001b[38;5;241;43m=\u001b[39;49m\u001b[43minput_name\u001b[49m\u001b[43m,\u001b[49m\n\u001b[0;32m   1067\u001b[0m \u001b[43m        \u001b[49m\u001b[43mestimator_name\u001b[49m\u001b[38;5;241;43m=\u001b[39;49m\u001b[43mestimator_name\u001b[49m\u001b[43m,\u001b[49m\n\u001b[0;32m   1068\u001b[0m \u001b[43m        \u001b[49m\u001b[43mallow_nan\u001b[49m\u001b[38;5;241;43m=\u001b[39;49m\u001b[43mforce_all_finite\u001b[49m\u001b[43m \u001b[49m\u001b[38;5;241;43m==\u001b[39;49m\u001b[43m \u001b[49m\u001b[38;5;124;43m\"\u001b[39;49m\u001b[38;5;124;43mallow-nan\u001b[39;49m\u001b[38;5;124;43m\"\u001b[39;49m\u001b[43m,\u001b[49m\n\u001b[0;32m   1069\u001b[0m \u001b[43m    \u001b[49m\u001b[43m)\u001b[49m\n\u001b[0;32m   1071\u001b[0m \u001b[38;5;28;01mif\u001b[39;00m copy:\n\u001b[0;32m   1072\u001b[0m     \u001b[38;5;28;01mif\u001b[39;00m _is_numpy_namespace(xp):\n\u001b[0;32m   1073\u001b[0m         \u001b[38;5;66;03m# only make a copy if `array` and `array_orig` may share memory`\u001b[39;00m\n",
      "File \u001b[1;32mc:\\Users\\Anastasiia\\Documents\\GitHub\\immo-eliza-ml\\.venv\\Lib\\site-packages\\sklearn\\utils\\validation.py:123\u001b[0m, in \u001b[0;36m_assert_all_finite\u001b[1;34m(X, allow_nan, msg_dtype, estimator_name, input_name)\u001b[0m\n\u001b[0;32m    120\u001b[0m \u001b[38;5;28;01mif\u001b[39;00m first_pass_isfinite:\n\u001b[0;32m    121\u001b[0m     \u001b[38;5;28;01mreturn\u001b[39;00m\n\u001b[1;32m--> 123\u001b[0m \u001b[43m_assert_all_finite_element_wise\u001b[49m\u001b[43m(\u001b[49m\n\u001b[0;32m    124\u001b[0m \u001b[43m    \u001b[49m\u001b[43mX\u001b[49m\u001b[43m,\u001b[49m\n\u001b[0;32m    125\u001b[0m \u001b[43m    \u001b[49m\u001b[43mxp\u001b[49m\u001b[38;5;241;43m=\u001b[39;49m\u001b[43mxp\u001b[49m\u001b[43m,\u001b[49m\n\u001b[0;32m    126\u001b[0m \u001b[43m    \u001b[49m\u001b[43mallow_nan\u001b[49m\u001b[38;5;241;43m=\u001b[39;49m\u001b[43mallow_nan\u001b[49m\u001b[43m,\u001b[49m\n\u001b[0;32m    127\u001b[0m \u001b[43m    \u001b[49m\u001b[43mmsg_dtype\u001b[49m\u001b[38;5;241;43m=\u001b[39;49m\u001b[43mmsg_dtype\u001b[49m\u001b[43m,\u001b[49m\n\u001b[0;32m    128\u001b[0m \u001b[43m    \u001b[49m\u001b[43mestimator_name\u001b[49m\u001b[38;5;241;43m=\u001b[39;49m\u001b[43mestimator_name\u001b[49m\u001b[43m,\u001b[49m\n\u001b[0;32m    129\u001b[0m \u001b[43m    \u001b[49m\u001b[43minput_name\u001b[49m\u001b[38;5;241;43m=\u001b[39;49m\u001b[43minput_name\u001b[49m\u001b[43m,\u001b[49m\n\u001b[0;32m    130\u001b[0m \u001b[43m\u001b[49m\u001b[43m)\u001b[49m\n",
      "File \u001b[1;32mc:\\Users\\Anastasiia\\Documents\\GitHub\\immo-eliza-ml\\.venv\\Lib\\site-packages\\sklearn\\utils\\validation.py:172\u001b[0m, in \u001b[0;36m_assert_all_finite_element_wise\u001b[1;34m(X, xp, allow_nan, msg_dtype, estimator_name, input_name)\u001b[0m\n\u001b[0;32m    155\u001b[0m \u001b[38;5;28;01mif\u001b[39;00m estimator_name \u001b[38;5;129;01mand\u001b[39;00m input_name \u001b[38;5;241m==\u001b[39m \u001b[38;5;124m\"\u001b[39m\u001b[38;5;124mX\u001b[39m\u001b[38;5;124m\"\u001b[39m \u001b[38;5;129;01mand\u001b[39;00m has_nan_error:\n\u001b[0;32m    156\u001b[0m     \u001b[38;5;66;03m# Improve the error message on how to handle missing values in\u001b[39;00m\n\u001b[0;32m    157\u001b[0m     \u001b[38;5;66;03m# scikit-learn.\u001b[39;00m\n\u001b[0;32m    158\u001b[0m     msg_err \u001b[38;5;241m+\u001b[39m\u001b[38;5;241m=\u001b[39m (\n\u001b[0;32m    159\u001b[0m         \u001b[38;5;124mf\u001b[39m\u001b[38;5;124m\"\u001b[39m\u001b[38;5;130;01m\\n\u001b[39;00m\u001b[38;5;132;01m{\u001b[39;00mestimator_name\u001b[38;5;132;01m}\u001b[39;00m\u001b[38;5;124m does not accept missing values\u001b[39m\u001b[38;5;124m\"\u001b[39m\n\u001b[0;32m    160\u001b[0m         \u001b[38;5;124m\"\u001b[39m\u001b[38;5;124m encoded as NaN natively. For supervised learning, you might want\u001b[39m\u001b[38;5;124m\"\u001b[39m\n\u001b[1;32m   (...)\u001b[0m\n\u001b[0;32m    170\u001b[0m         \u001b[38;5;124m\"\u001b[39m\u001b[38;5;124m#estimators-that-handle-nan-values\u001b[39m\u001b[38;5;124m\"\u001b[39m\n\u001b[0;32m    171\u001b[0m     )\n\u001b[1;32m--> 172\u001b[0m \u001b[38;5;28;01mraise\u001b[39;00m \u001b[38;5;167;01mValueError\u001b[39;00m(msg_err)\n",
      "\u001b[1;31mValueError\u001b[0m: Input contains infinity or a value too large for dtype('float32')."
     ]
    }
   ],
   "source": [
    "from sklearn.metrics import mean_absolute_error, mean_squared_error, mean_absolute_percentage_error, r2_score\n",
    "from xgboost import XGBRegressor\n",
    "import numpy as np\n",
    "\n",
    "# Finalize dataset by segmenting apartments and houses\n",
    "X_train_apartments = X_train[X_train['Property type_apartment'] == 1]\n",
    "y_train_apartments = y_train[X_train['Property type_apartment'] == 1]\n",
    "X_train_houses = X_train[X_train['Property type_house'] == 1]\n",
    "y_train_houses = y_train[X_train['Property type_house'] == 1]\n",
    "\n",
    "# Define and train XGBoost models for apartments and houses\n",
    "xgb_apartment_model = XGBRegressor(random_state=42)\n",
    "xgb_apartment_model.fit(X_train_apartments, y_train_apartments)\n",
    "\n",
    "xgb_house_model = XGBRegressor(random_state=42)\n",
    "xgb_house_model.fit(X_train_houses, y_train_houses)\n",
    "\n",
    "# Predict on test data\n",
    "X_test_apartments = X_test[X_test['Property type_apartment'] == 1]\n",
    "y_test_apartments = y_test[X_test['Property type_apartment'] == 1]\n",
    "y_pred_apartments = np.expm1(xgb_apartment_model.predict(X_test_apartments))\n",
    "\n",
    "X_test_houses = X_test[X_test['Property type_house'] == 1]\n",
    "y_test_houses = y_test[X_test['Property type_house'] == 1]\n",
    "y_pred_houses = np.expm1(xgb_house_model.predict(X_test_houses))\n",
    "\n",
    "# Combine predictions for apartments and houses\n",
    "y_test_combined = np.concatenate([y_test_apartments, y_test_houses])\n",
    "y_pred_combined = np.concatenate([y_pred_apartments, y_pred_houses])\n",
    "\n",
    "# Calculate and print final evaluation metrics\n",
    "mae_final = mean_absolute_error(y_test_combined, y_pred_combined)\n",
    "mse_final = mean_squared_error(y_test_combined, y_pred_combined)\n",
    "rmse_final = np.sqrt(mse_final)\n",
    "mape_final = mean_absolute_percentage_error(y_test_combined, y_pred_combined)\n",
    "r2_final = r2_score(y_test_combined, y_pred_combined)\n",
    "\n",
    "print(\"\\nFinal Model Performance Metrics:\")\n",
    "print(\"Mean Absolute Error (MAE):\", np.round(mae_final, 2))\n",
    "print(\"Mean Squared Error (MSE):\", np.round(mse_final, 2))\n",
    "print(\"Root Mean Squared Error (RMSE):\", np.round(rmse_final, 2))\n",
    "print(\"Mean Absolute Percentage Error (MAPE):\", np.round(mape_final * 100, 2), \"%\")\n",
    "print(\"R^2 Score:\", np.round(r2_final, 2))\n"
   ]
  },
  {
   "cell_type": "code",
   "execution_count": 68,
   "metadata": {},
   "outputs": [
    {
     "name": "stdout",
     "output_type": "stream",
     "text": [
      "\n",
      "Final Model Performance Metrics:\n",
      "Mean Absolute Error (MAE): 3.4028234663852886e+38\n",
      "Mean Squared Error (MSE): 1.1579207543382391e+77\n",
      "Root Mean Squared Error (RMSE): 3.4028234663852886e+38\n",
      "Mean Absolute Percentage Error (MAPE): 1.1481443681058538e+35 %\n",
      "R^2 Score: -inf\n"
     ]
    },
    {
     "name": "stderr",
     "output_type": "stream",
     "text": [
      "c:\\Users\\Anastasiia\\Documents\\GitHub\\immo-eliza-ml\\.venv\\Lib\\site-packages\\numpy\\_core\\fromnumeric.py:86: RuntimeWarning: overflow encountered in reduce\n",
      "  return ufunc.reduce(obj, axis, dtype, out, **passkwargs)\n",
      "c:\\Users\\Anastasiia\\Documents\\GitHub\\immo-eliza-ml\\.venv\\Lib\\site-packages\\sklearn\\metrics\\_regression.py:1220: RuntimeWarning: overflow encountered in square\n",
      "  numerator = xp.sum(weight * (y_true - y_pred) ** 2, axis=0)\n"
     ]
    }
   ],
   "source": [
    "# Check y_pred_apartments for inf values ​​and replace with a very large number\n",
    "y_pred_apartments = np.where(np.isinf(y_pred_apartments), np.finfo(np.float32).max, y_pred_apartments)\n",
    "y_pred_houses = np.where(np.isinf(y_pred_houses), np.finfo(np.float32).max, y_pred_houses)\n",
    "\n",
    "# Check for NaN and replace with mean\n",
    "y_pred_apartments = np.nan_to_num(y_pred_apartments, nan=np.nanmean(y_pred_apartments))\n",
    "y_pred_houses = np.nan_to_num(y_pred_houses, nan=np.nanmean(y_pred_houses))\n",
    "\n",
    "# Merging predictions after cleaning\n",
    "y_pred_combined = np.concatenate([y_pred_apartments, y_pred_houses])\n",
    "y_test_combined = np.concatenate([y_test_apartments, y_test_houses])\n",
    "\n",
    "# Check the final values ​​for excessive values ​​and correction\n",
    "y_pred_combined = np.where(y_pred_combined > np.finfo(np.float32).max, np.finfo(np.float32).max, y_pred_combined)\n",
    "\n",
    "# Evaluation of metrics\n",
    "mae_final = mean_absolute_error(y_test_combined, y_pred_combined)\n",
    "mse_final = mean_squared_error(y_test_combined, y_pred_combined)\n",
    "rmse_final = np.sqrt(mse_final)\n",
    "mape_final = mean_absolute_percentage_error(y_test_combined, y_pred_combined)\n",
    "r2_final = r2_score(y_test_combined, y_pred_combined)\n",
    "\n",
    "print(\"\\nFinal Model Performance Metrics:\")\n",
    "print(\"Mean Absolute Error (MAE):\", np.round(mae_final, 2))\n",
    "print(\"Mean Squared Error (MSE):\", np.round(mse_final, 2))\n",
    "print(\"Root Mean Squared Error (RMSE):\", np.round(rmse_final, 2))\n",
    "print(\"Mean Absolute Percentage Error (MAPE):\", np.round(mape_final * 100, 2), \"%\")\n",
    "print(\"R^2 Score:\", np.round(r2_final, 2))"
   ]
  },
  {
   "cell_type": "code",
   "execution_count": 69,
   "metadata": {},
   "outputs": [
    {
     "name": "stdout",
     "output_type": "stream",
     "text": [
      "Max value of 'price_per_sqm': 14983.33\n",
      "Max value of 'bedrooms_per_sqm': 0.085\n"
     ]
    }
   ],
   "source": [
    "# Checking the distribution of new features\n",
    "print(\"Max value of 'price_per_sqm':\", data_encoded['price_per_sqm'].max())\n",
    "print(\"Max value of 'bedrooms_per_sqm':\", data_encoded['bedrooms_per_sqm'].max())\n",
    "\n",
    "# Limiting maximum values ​​to avoid overflow\n",
    "data_encoded['price_per_sqm'] = np.where(data_encoded['price_per_sqm'] > 1e5, 1e5, data_encoded['price_per_sqm'])\n",
    "data_encoded['bedrooms_per_sqm'] = np.where(data_encoded['bedrooms_per_sqm'] > 1e2, 1e2, data_encoded['bedrooms_per_sqm'])\n",
    "\n",
    "# Separation of data into training and test samples\n",
    "X = data_encoded.drop('Price', axis=1)\n",
    "y = data_encoded['Price']\n",
    "X_train, X_test, y_train, y_test = train_test_split(X, y, test_size=0.2, random_state=42)\n",
    "\n",
    "# Validation and retraining of models on cleaned data\n"
   ]
  },
  {
   "cell_type": "code",
   "execution_count": 72,
   "metadata": {},
   "outputs": [
    {
     "name": "stdout",
     "output_type": "stream",
     "text": [
      "\n",
      "Final Model Performance Metrics:\n",
      "Mean Absolute Error (MAE): 484783858.9\n",
      "Mean Squared Error (MSE): 2.3501542748881968e+17\n",
      "Root Mean Squared Error (RMSE): 484783897.72\n",
      "Mean Absolute Percentage Error (MAPE): 163599.26 %\n",
      "R^2 Score: -6244170.0\n"
     ]
    }
   ],
   "source": [
    "import numpy as np\n",
    "\n",
    "# Cap predictions at a reasonable upper bound for the log-transformed values\n",
    "max_log_value = 20  # Example cap, adjust based on data distribution\n",
    "\n",
    "# Apply capping before exponentiation\n",
    "y_pred_apartments_log = np.clip(y_pred_apartments_log, a_min=None, a_max=max_log_value)\n",
    "y_pred_houses_log = np.clip(y_pred_houses_log, a_min=None, a_max=max_log_value)\n",
    "\n",
    "# Transform predictions back from log scale to original scale\n",
    "y_pred_apartments = np.expm1(y_pred_apartments_log)\n",
    "y_pred_houses = np.expm1(y_pred_houses_log)\n",
    "\n",
    "# Combine predictions and actual values for final evaluation\n",
    "y_pred_combined = np.concatenate([y_pred_apartments, y_pred_houses])\n",
    "y_test_combined = np.concatenate([y_test_apartments, y_test_houses])\n",
    "\n",
    "# Calculate and print final evaluation metrics\n",
    "try:\n",
    "    mae_final = mean_absolute_error(y_test_combined, y_pred_combined)\n",
    "    mse_final = mean_squared_error(y_test_combined, y_pred_combined)\n",
    "    rmse_final = np.sqrt(mse_final)\n",
    "    mape_final = mean_absolute_percentage_error(y_test_combined, y_pred_combined)\n",
    "    r2_final = r2_score(y_test_combined, y_pred_combined)\n",
    "\n",
    "    print(\"\\nFinal Model Performance Metrics:\")\n",
    "    print(\"Mean Absolute Error (MAE):\", np.round(mae_final, 2))\n",
    "    print(\"Mean Squared Error (MSE):\", np.round(mse_final, 2))\n",
    "    print(\"Root Mean Squared Error (RMSE):\", np.round(rmse_final, 2))\n",
    "    print(\"Mean Absolute Percentage Error (MAPE):\", np.round(mape_final * 100, 2), \"%\")\n",
    "    print(\"R^2 Score:\", np.round(r2_final, 2))\n",
    "\n",
    "except ValueError as e:\n",
    "    print(\"An error occurred during model evaluation:\", e)\n",
    "\n"
   ]
  },
  {
   "cell_type": "code",
   "execution_count": 74,
   "metadata": {},
   "outputs": [
    {
     "data": {
      "image/png": "[encoded data removed]",
      "text/plain": [
       "<Figure size 640x480 with 1 Axes>"
      ]
     },
     "metadata": {},
     "output_type": "display_data"
    }
   ],
   "source": [
    "import matplotlib.pyplot as plt\n",
    "import seaborn as sns\n",
    "\n",
    "# Plot distribution of target variable\n",
    "sns.histplot(y_train, kde=True)\n",
    "plt.title(\"Distribution of Price\")\n",
    "plt.xlabel(\"Price\")\n",
    "plt.show()\n"
   ]
  },
  {
   "cell_type": "code",
   "execution_count": 75,
   "metadata": {},
   "outputs": [],
   "source": [
    "y_train_log = np.log1p(y_train)  # Apply log transformation\n",
    "y_test_log = np.log1p(y_test)\n"
   ]
  },
  {
   "cell_type": "code",
   "execution_count": 76,
   "metadata": {},
   "outputs": [],
   "source": [
    "from sklearn.preprocessing import StandardScaler\n",
    "\n",
    "scaler = StandardScaler()\n",
    "X_train_scaled = scaler.fit_transform(X_train)\n",
    "X_test_scaled = scaler.transform(X_test)\n"
   ]
  },
  {
   "cell_type": "code",
   "execution_count": 78,
   "metadata": {},
   "outputs": [],
   "source": [
    "from xgboost import XGBRegressor\n",
    "\n",
    "# Define the best parameters (example parameters, replace with actual values)\n",
    "best_params_xgb_advanced = {\n",
    "    'n_estimators': 300,\n",
    "    'max_depth': 5,\n",
    "    'learning_rate': 0.01,\n",
    "    'subsample': 1.0,\n",
    "    'colsample_bytree': 0.8,\n",
    "    'gamma': 0.3,\n",
    "    'reg_alpha': 0.5,\n",
    "    'reg_lambda': 0.5\n",
    "}\n",
    "\n",
    "# Initialize the XGBoost model with the best parameters\n",
    "final_xgb_model_advanced = XGBRegressor(**best_params_xgb_advanced, random_state=42)\n",
    "\n"
   ]
  },
  {
   "cell_type": "code",
   "execution_count": 79,
   "metadata": {},
   "outputs": [],
   "source": [
    "# Train the model with log-transformed target\n",
    "final_xgb_model_advanced.fit(X_train_scaled, y_train_log)\n",
    "\n",
    "# Predict on the test set and convert predictions back to original scale\n",
    "y_pred_log = final_xgb_model_advanced.predict(X_test_scaled)\n",
    "y_pred_final = np.expm1(y_pred_log)  # Convert back from log scale\n"
   ]
  },
  {
   "cell_type": "code",
   "execution_count": 82,
   "metadata": {},
   "outputs": [
    {
     "name": "stdout",
     "output_type": "stream",
     "text": [
      "\n",
      "Final XGBoost Model Performance Metrics:\n",
      "Mean Absolute Error (MAE): 27,910.149\n",
      "Mean Squared Error (MSE): 2,400,930,620.386\n",
      "Root Mean Squared Error (RMSE): 48,999.292\n",
      "Mean Absolute Percentage Error (MAPE): 7.041%\n",
      "R² Score: 0.94\n"
     ]
    }
   ],
   "source": [
    "from xgboost import XGBRegressor\n",
    "from sklearn.metrics import mean_absolute_error, mean_squared_error, mean_absolute_percentage_error, r2_score\n",
    "import numpy as np\n",
    "\n",
    "# Step 1: Initialize the model with the best parameters\n",
    "best_params_xgb_advanced = {\n",
    "    'n_estimators': 300,\n",
    "    'max_depth': 5,\n",
    "    'learning_rate': 0.01,\n",
    "    'subsample': 1.0,\n",
    "    'colsample_bytree': 0.8,\n",
    "    'gamma': 0.3,\n",
    "    'reg_alpha': 0.5,\n",
    "    'reg_lambda': 0.5\n",
    "}\n",
    "\n",
    "# Initialize the model\n",
    "final_xgb_model_advanced = XGBRegressor(**best_params_xgb_advanced, random_state=42)\n",
    "\n",
    "# Step 2: Train the model on the log-transformed target variable\n",
    "final_xgb_model_advanced.fit(X_train_scaled, y_train_log)\n",
    "\n",
    "# Step 3: Predict and transform back to the original scale\n",
    "y_pred_log = final_xgb_model_advanced.predict(X_test_scaled)\n",
    "y_pred_final = np.expm1(y_pred_log)  # Apply expm1 to reverse the log1p transformation\n",
    "\n",
    "# Step 4: Evaluate the model\n",
    "mae_final = mean_absolute_error(y_test, y_pred_final)\n",
    "mse_final = mean_squared_error(y_test, y_pred_final)\n",
    "rmse_final = np.sqrt(mse_final)\n",
    "mape_final = mean_absolute_percentage_error(y_test, y_pred_final)\n",
    "r2_final = r2_score(y_test, y_pred_final)\n",
    "\n",
    "\n",
    "# Print out the final performance metrics with thousand separators and rounding to three decimal places\n",
    "print(\"\\nFinal XGBoost Model Performance Metrics:\")\n",
    "print(f\"Mean Absolute Error (MAE): {mae_final:,.3f}\")\n",
    "print(f\"Mean Squared Error (MSE): {mse_final:,.3f}\")\n",
    "print(f\"Root Mean Squared Error (RMSE): {rmse_final:,.3f}\")\n",
    "print(f\"Mean Absolute Percentage Error (MAPE): {mape_final * 100:,.3f}%\")\n",
    "print(f\"R² Score: {r2_final:.2f}\")\n"
   ]
  }
 ],
 "metadata": {
  "kernelspec": {
   "display_name": ".venv",
   "language": "python",
   "name": "python3"
  },
  "language_info": {
   "codemirror_mode": {
    "name": "ipython",
    "version": 3
   },
   "file_extension": ".py",
   "mimetype": "text/x-python",
   "name": "python",
   "nbconvert_exporter": "python",
   "pygments_lexer": "ipython3",
   "version": "3.12.6"
  }
 },
 "nbformat": 4,
 "nbformat_minor": 2
}
